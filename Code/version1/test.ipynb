{
 "cells": [
  {
   "cell_type": "code",
   "execution_count": 2,
   "id": "initial_id",
   "metadata": {
    "collapsed": true,
    "ExecuteTime": {
     "end_time": "2024-09-20T07:32:36.987389300Z",
     "start_time": "2024-09-20T07:32:34.616622800Z"
    }
   },
   "outputs": [],
   "source": [
    "import pandas as pd\n",
    "import numpy as np\n",
    "import glob"
   ]
  },
  {
   "cell_type": "code",
   "execution_count": 3,
   "outputs": [
    {
     "name": "stdout",
     "output_type": "stream",
     "text": [
      "['C:\\\\Users\\\\Administrator\\\\Desktop\\\\IdsLab\\\\任务\\\\SchedulerSystem\\\\Code\\\\data\\\\newData\\\\trace_kalos.csv', 'C:\\\\Users\\\\Administrator\\\\Desktop\\\\IdsLab\\\\任务\\\\SchedulerSystem\\\\Code\\\\data\\\\newData\\\\trace_seren.csv']\n"
     ]
    }
   ],
   "source": [
    "file_path=\"C:\\\\Users\\\\Administrator\\\\Desktop\\\\IdsLab\\\\任务\\\\SchedulerSystem\\\\Code\\\\data\\\\newData\\\\*.csv\"\n",
    "file_name=glob.glob(file_path)\n",
    "print(file_name)"
   ],
   "metadata": {
    "collapsed": false,
    "ExecuteTime": {
     "end_time": "2024-09-20T07:32:37.003049300Z",
     "start_time": "2024-09-20T07:32:36.987389300Z"
    }
   },
   "id": "34e813fbaf96acd4"
  },
  {
   "cell_type": "code",
   "execution_count": 5,
   "outputs": [
    {
     "name": "stdout",
     "output_type": "stream",
     "text": [
      "                 job_id   user  node_num  gpu_num  cpu_num  mem_per_pod_GB  \\\n",
      "0      dlctk696s0jbvitv  uf794         8       64      960            1000   \n",
      "1      dlcgiwd1g3i1cfgl  uf794         8       64      960            1000   \n",
      "2      dlc1t2ypl09b8qtp  uf794         8       64      960            1000   \n",
      "3      dlcj0vimc1r8uc4f  uf794         8       64      960            1000   \n",
      "4      dlcyu9s048ourmoe  uf794         8       64      960            1000   \n",
      "...                 ...    ...       ...      ...      ...             ...   \n",
      "62408  dlc2ep9txhmnjo8w  uc13a         1        8       48             256   \n",
      "62409  dlczzhretcl3wuyh  uc13a         1        8       48             256   \n",
      "62410  dlc10tkr9hhhppdi  uc13a         1        8       48             256   \n",
      "62411  dlc1nathj9nb8r8t  uc13a         1        8       48             256   \n",
      "62412  dlcbkycjpvhchys2  uc13a         1        8       48             256   \n",
      "\n",
      "       shared_mem_per_pod   type      state                submit_time  \\\n",
      "0                   100.0  Other     FAILED  2023-05-17 11:00:58+00:00   \n",
      "1                   100.0  Other     FAILED  2023-05-17 11:21:32+00:00   \n",
      "2                   100.0  Other  CANCELLED  2023-05-17 11:28:42+00:00   \n",
      "3                   100.0  Other  COMPLETED  2023-05-17 11:30:13+00:00   \n",
      "4                   100.0  Other  COMPLETED  2023-05-17 11:35:26+00:00   \n",
      "...                   ...    ...        ...                        ...   \n",
      "62408                 NaN   Eval  COMPLETED  2023-08-16 14:09:13+00:00   \n",
      "62409                 NaN   Eval  COMPLETED  2023-08-16 14:28:19+00:00   \n",
      "62410                 NaN   Eval  COMPLETED  2023-08-16 14:41:09+00:00   \n",
      "62411                 NaN   Eval    RUNNING  2023-08-16 14:59:34+00:00   \n",
      "62412                 NaN   Eval    RUNNING  2023-08-16 15:18:02+00:00   \n",
      "\n",
      "                      start_time                   end_time  \\\n",
      "0      2023-05-17 11:01:08+00:00  2023-05-17 11:01:16+00:00   \n",
      "1      2023-05-17 11:21:45+00:00  2023-05-17 11:21:51+00:00   \n",
      "2      2023-05-17 11:28:54+00:00  2023-05-17 11:30:04+00:00   \n",
      "3      2023-05-17 11:30:25+00:00  2023-05-17 11:31:57+00:00   \n",
      "4      2023-05-17 11:35:34+00:00  2023-05-17 11:36:44+00:00   \n",
      "...                          ...                        ...   \n",
      "62408  2023-08-16 14:09:26+00:00  2023-08-16 14:41:00+00:00   \n",
      "62409  2023-08-16 14:28:41+00:00  2023-08-16 14:59:16+00:00   \n",
      "62410  2023-08-16 14:41:26+00:00  2023-08-16 15:17:42+00:00   \n",
      "62411  2023-08-16 15:00:04+00:00                        NaN   \n",
      "62412  2023-08-16 15:18:15+00:00                        NaN   \n",
      "\n",
      "                       fail_time                  stop_time  duration  queue  \\\n",
      "0      2023-05-17 11:01:16+00:00                        NaN        18   10.0   \n",
      "1      2023-05-17 11:21:51+00:00                        NaN        19   13.0   \n",
      "2                            NaN  2023-05-17 11:30:04+00:00        82   12.0   \n",
      "3                            NaN                        NaN       104   12.0   \n",
      "4                            NaN                        NaN        78    8.0   \n",
      "...                          ...                        ...       ...    ...   \n",
      "62408                        NaN                        NaN      1907   13.0   \n",
      "62409                        NaN                        NaN      1857   22.0   \n",
      "62410                        NaN                        NaN      2193   17.0   \n",
      "62411                        NaN                        NaN      1608   30.0   \n",
      "62412                        NaN                        NaN       500   13.0   \n",
      "\n",
      "       gpu_time  \n",
      "0        1152.0  \n",
      "1        1216.0  \n",
      "2        5248.0  \n",
      "3        6656.0  \n",
      "4        4992.0  \n",
      "...         ...  \n",
      "62408   15256.0  \n",
      "62409   14856.0  \n",
      "62410   17544.0  \n",
      "62411   12864.0  \n",
      "62412    4000.0  \n",
      "\n",
      "[62413 rows x 17 columns]\n",
      "         job_id   user  node_num  gpu_num  cpu_num   type      state  \\\n",
      "0       5778432  u5907         1        8      128  Other     FAILED   \n",
      "1       5778469  u5907         1        8      128  Other  COMPLETED   \n",
      "2       5778565  u8742         1        8      128  Other     FAILED   \n",
      "3       5778592  ud035         2       16      160  Other     FAILED   \n",
      "4       5778612  ud035         4       32      320  Other  COMPLETED   \n",
      "...         ...    ...       ...      ...      ...    ...        ...   \n",
      "818322  7992042  ubd92         1        1        2   Eval  COMPLETED   \n",
      "818323  7992043  ubd92         1        1        2   Eval  COMPLETED   \n",
      "818324  7992044  ubd92         1        1        2   Eval  COMPLETED   \n",
      "818325  7992045  ubd92         1        1        2   Eval  COMPLETED   \n",
      "818326  7992046  ubd92         1        1        2   Eval  COMPLETED   \n",
      "\n",
      "                      submit_time                 start_time  \\\n",
      "0       2023-03-01 00:18:22+08:00  2023-03-01 00:18:54+08:00   \n",
      "1       2023-03-01 00:23:58+08:00  2023-03-01 00:24:11+08:00   \n",
      "2       2023-03-01 00:43:51+08:00  2023-03-01 00:43:53+08:00   \n",
      "3       2023-03-01 00:48:06+08:00  2023-03-01 00:48:08+08:00   \n",
      "4       2023-03-01 00:52:01+08:00  2023-03-01 00:52:17+08:00   \n",
      "...                           ...                        ...   \n",
      "818322  2023-08-16 23:59:34+08:00  2023-08-16 23:59:36+08:00   \n",
      "818323  2023-08-16 23:59:37+08:00  2023-08-16 23:59:39+08:00   \n",
      "818324  2023-08-16 23:59:40+08:00  2023-08-16 23:59:42+08:00   \n",
      "818325  2023-08-16 23:59:40+08:00  2023-08-16 23:59:42+08:00   \n",
      "818326  2023-08-16 23:59:42+08:00  2023-08-16 23:59:42+08:00   \n",
      "\n",
      "                         end_time  duration  queue   gpu_time  \n",
      "0       2023-03-01 00:20:51+08:00       117     32      936.0  \n",
      "1       2023-03-01 01:09:04+08:00      2693     13    21544.0  \n",
      "2       2023-03-01 10:27:32+08:00     35019      2   280152.0  \n",
      "3       2023-03-01 00:48:54+08:00        46      2      736.0  \n",
      "4       2023-03-01 16:45:39+08:00     57202     16  1830464.0  \n",
      "...                           ...       ...    ...        ...  \n",
      "818322  2023-08-17 00:23:15+08:00      1419      2     1419.0  \n",
      "818323  2023-08-17 01:08:26+08:00      4127      2     4127.0  \n",
      "818324  2023-08-17 01:55:07+08:00      6925      2     6925.0  \n",
      "818325  2023-08-17 00:21:47+08:00      1325      2     1325.0  \n",
      "818326  2023-08-17 00:20:31+08:00      1249      0     1249.0  \n",
      "\n",
      "[818327 rows x 13 columns]\n"
     ]
    }
   ],
   "source": [
    "for file in file_name:\n",
    "    data=pd.read_csv(file)\n",
    "    print(data)\n",
    "    input()"
   ],
   "metadata": {
    "collapsed": false,
    "ExecuteTime": {
     "end_time": "2024-09-20T07:32:59.019628800Z",
     "start_time": "2024-09-20T07:32:50.250491400Z"
    }
   },
   "id": "9939d7945d86b794"
  },
  {
   "cell_type": "code",
   "execution_count": 1,
   "outputs": [
    {
     "name": "stdout",
     "output_type": "stream",
     "text": [
      "123\n",
      "456\n"
     ]
    }
   ],
   "source": [
    "dict={123:[1,2,3],456:[4,5,6]}\n",
    "for ite in dict:\n",
    "    print(ite)"
   ],
   "metadata": {
    "collapsed": false,
    "ExecuteTime": {
     "end_time": "2024-09-24T09:36:58.628482600Z",
     "start_time": "2024-09-24T09:36:58.580867400Z"
    }
   },
   "id": "817477550e62e5d1"
  },
  {
   "cell_type": "code",
   "execution_count": null,
   "outputs": [],
   "source": [],
   "metadata": {
    "collapsed": false
   },
   "id": "d5122f45e816c1bf"
  }
 ],
 "metadata": {
  "kernelspec": {
   "display_name": "Python 3",
   "language": "python",
   "name": "python3"
  },
  "language_info": {
   "codemirror_mode": {
    "name": "ipython",
    "version": 2
   },
   "file_extension": ".py",
   "mimetype": "text/x-python",
   "name": "python",
   "nbconvert_exporter": "python",
   "pygments_lexer": "ipython2",
   "version": "2.7.6"
  }
 },
 "nbformat": 4,
 "nbformat_minor": 5
}
