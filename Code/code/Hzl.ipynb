{
 "cells": [
  {
   "cell_type": "code",
   "execution_count": 6,
   "id": "initial_id",
   "metadata": {
    "ExecuteTime": {
     "end_time": "2024-08-22T14:19:23.231506Z",
     "start_time": "2024-08-22T14:19:23.215894600Z"
    },
    "collapsed": true
   },
   "outputs": [],
   "source": [
    "import glob\n",
    "import json\n",
    "import pandas as pd"
   ]
  },
  {
   "cell_type": "code",
   "execution_count": 7,
   "id": "d72db12841f32d27",
   "metadata": {
    "ExecuteTime": {
     "end_time": "2024-08-22T14:20:32.301805500Z",
     "start_time": "2024-08-22T14:20:23.695505Z"
    },
    "collapsed": false
   },
   "outputs": [],
   "source": [
    "titles=glob.glob('C:\\\\Users\\Administrator\\Desktop\\IdsLab\\任务\\SchedulerSystem\\Code\\data\\*.json')\n",
    "dfs = []\n",
    "for title in titles:\n",
    "    if title.endswith('.json'):\n",
    "        with open(title,'r') as f:\n",
    "            json_data = json.load(f)\n",
    "            dft = pd.DataFrame(json_data)\n",
    "            dft.reset_index(inplace=True)\n",
    "            dft = dft.drop('index',axis=1)\n",
    "            dfs.append(dft)"
   ]
  },
  {
   "cell_type": "code",
   "execution_count": 8,
   "id": "3c8c5a62209d2afc",
   "metadata": {
    "ExecuteTime": {
     "end_time": "2024-08-22T14:20:35.379540400Z",
     "start_time": "2024-08-22T14:20:35.325056800Z"
    },
    "collapsed": false
   },
   "outputs": [
    {
     "data": {
      "text/plain": [
       "['C:\\\\Users\\\\Administrator\\\\Desktop\\\\IdsLab\\\\任务\\\\SchedulerSystem\\\\Code\\\\data\\\\data_1.json',\n",
       " 'C:\\\\Users\\\\Administrator\\\\Desktop\\\\IdsLab\\\\任务\\\\SchedulerSystem\\\\Code\\\\data\\\\data_2.json',\n",
       " 'C:\\\\Users\\\\Administrator\\\\Desktop\\\\IdsLab\\\\任务\\\\SchedulerSystem\\\\Code\\\\data\\\\data_3.json',\n",
       " 'C:\\\\Users\\\\Administrator\\\\Desktop\\\\IdsLab\\\\任务\\\\SchedulerSystem\\\\Code\\\\data\\\\data_4.json',\n",
       " 'C:\\\\Users\\\\Administrator\\\\Desktop\\\\IdsLab\\\\任务\\\\SchedulerSystem\\\\Code\\\\data\\\\data_5.json',\n",
       " 'C:\\\\Users\\\\Administrator\\\\Desktop\\\\IdsLab\\\\任务\\\\SchedulerSystem\\\\Code\\\\data\\\\data_6.json']"
      ]
     },
     "execution_count": 8,
     "metadata": {},
     "output_type": "execute_result"
    }
   ],
   "source": []
  },
  {
   "cell_type": "code",
   "execution_count": null,
   "id": "d3e8f8a7670dbb86",
   "metadata": {
    "collapsed": false
   },
   "outputs": [],
   "source": []
  }
 ],
 "metadata": {
  "kernelspec": {
   "display_name": "Python 3",
   "language": "python",
   "name": "python3"
  },
  "language_info": {
   "codemirror_mode": {
    "name": "ipython",
    "version": 3
   },
   "file_extension": ".py",
   "mimetype": "text/x-python",
   "name": "python",
   "nbconvert_exporter": "python",
   "pygments_lexer": "ipython3",
   "version": "3.8.18"
  }
 },
 "nbformat": 4,
 "nbformat_minor": 5
}
