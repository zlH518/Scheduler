{
 "cells": [
  {
   "cell_type": "code",
   "execution_count": 5,
   "metadata": {
    "ExecuteTime": {
     "end_time": "2024-08-16T09:23:44.375756400Z",
     "start_time": "2024-08-16T09:23:32.158415400Z"
    }
   },
   "outputs": [],
   "source": [
    "import glob\n",
    "import pandas as pd\n",
    "import seaborn as sns\n",
    "import matplotlib.pyplot as plt; plt.rcdefaults()\n",
    "import numpy as np\n",
    "import matplotlib.font_manager as font_manager\n",
    "import matplotlib\n",
    "import os\n",
    "from collections import Counter\n",
    "import json\n",
    "# import missingno\n",
    "pd.options.display.float_format = '{:.2f}'.format"
   ]
  },
  {
   "cell_type": "code",
   "execution_count": 6,
   "metadata": {
    "ExecuteTime": {
     "end_time": "2024-08-16T09:23:54.001309400Z",
     "start_time": "2024-08-16T09:23:53.922543600Z"
    }
   },
   "outputs": [
    {
     "data": {
      "text/plain": "['C:\\\\Users\\\\Administrator\\\\Desktop\\\\IdsLab\\\\任务\\\\调度系统\\\\snt9b集群现网数据\\\\data\\\\data_1.json',\n 'C:\\\\Users\\\\Administrator\\\\Desktop\\\\IdsLab\\\\任务\\\\调度系统\\\\snt9b集群现网数据\\\\data\\\\data_2.json',\n 'C:\\\\Users\\\\Administrator\\\\Desktop\\\\IdsLab\\\\任务\\\\调度系统\\\\snt9b集群现网数据\\\\data\\\\data_3.json',\n 'C:\\\\Users\\\\Administrator\\\\Desktop\\\\IdsLab\\\\任务\\\\调度系统\\\\snt9b集群现网数据\\\\data\\\\data_4.json',\n 'C:\\\\Users\\\\Administrator\\\\Desktop\\\\IdsLab\\\\任务\\\\调度系统\\\\snt9b集群现网数据\\\\data\\\\data_5.json',\n 'C:\\\\Users\\\\Administrator\\\\Desktop\\\\IdsLab\\\\任务\\\\调度系统\\\\snt9b集群现网数据\\\\data\\\\data_6.json']"
     },
     "execution_count": 6,
     "metadata": {},
     "output_type": "execute_result"
    }
   ],
   "source": [
    "glob.glob(r'C:\\Users\\Administrator\\Desktop\\IdsLab\\任务\\调度系统\\snt9b集群现网数据\\data\\*.json')"
   ]
  },
  {
   "cell_type": "code",
   "execution_count": 7,
   "metadata": {
    "ExecuteTime": {
     "end_time": "2024-08-16T09:24:07.853244800Z",
     "start_time": "2024-08-16T09:23:59.855455600Z"
    }
   },
   "outputs": [],
   "source": [
    "titles = glob.glob('C:\\\\Users\\Administrator\\Desktop\\IdsLab\\任务\\调度系统\\snt9b集群现网数据\\data\\*.json')\n",
    "dfs = []\n",
    "for title in titles:\n",
    "    if title.endswith('.json'):\n",
    "        with open(title,'r') as f:\n",
    "            json_data = json.load(f)\n",
    "            dft = pd.DataFrame(json_data)\n",
    "            dft.reset_index(inplace=True)\n",
    "            dft = dft.drop('index',axis=1)\n",
    "            dfs.append(dft)"
   ]
  },
  {
   "cell_type": "code",
   "execution_count": 8,
   "metadata": {
    "collapsed": false,
    "ExecuteTime": {
     "end_time": "2024-08-16T09:24:30.032390400Z",
     "start_time": "2024-08-16T09:24:29.961745700Z"
    }
   },
   "outputs": [
    {
     "data": {
      "text/plain": "6"
     },
     "execution_count": 8,
     "metadata": {},
     "output_type": "execute_result"
    }
   ],
   "source": [
    "len(dfs)"
   ]
  },
  {
   "cell_type": "code",
   "execution_count": 13,
   "metadata": {
    "ExecuteTime": {
     "end_time": "2024-08-16T09:37:33.278652Z",
     "start_time": "2024-08-16T09:37:33.208629600Z"
    }
   },
   "outputs": [
    {
     "name": "stdout",
     "output_type": "stream",
     "text": [
      "1054\n",
      "(1054, 126)\n",
      "Index(['kind', 'deleted_at', 'metadata.id', 'metadata.name',\n",
      "       'metadata.create_time', 'metadata.workspace_id', 'metadata.ai_project',\n",
      "       'metadata.labels.cluster.id', 'metadata.labels.cluster.project.id',\n",
      "       'metadata.labels.training-job',\n",
      "       ...\n",
      "       'algorithm.environments.PIPE_NUMBER_PER_RANK',\n",
      "       'algorithm.environments.DATA_OFFSET', 'algorithm.environments.CONTEXT',\n",
      "       'algorithm.environments.MODEL_TYPE', 'algorithm.environments.PLATFORM',\n",
      "       'algorithm.environments.PREFIX',\n",
      "       'algorithm.environments.MA_SAVE_EXPORT',\n",
      "       'algorithm.environments.HCCL_DETERMINISTIC',\n",
      "       'algorithm.environments.ROUTEPLAN_ALGO_VERSION',\n",
      "       'algorithm.environments.ROUTEPLAN_PP'],\n",
      "      dtype='object', length=126)\n"
     ]
    }
   ],
   "source": [
    "df1,df2,df3,df4,df5,df6 = dfs\n",
    "dataframes = [df1,df2,df3,df4,df5,df6]\n",
    "print(len(df1))\n",
    "print(df1.shape)\n",
    "print(df1.columns)"
   ]
  },
  {
   "cell_type": "markdown",
   "source": [
    "只保留存在时间的任务"
   ],
   "metadata": {
    "collapsed": false
   }
  },
  {
   "cell_type": "code",
   "execution_count": 14,
   "metadata": {
    "ExecuteTime": {
     "end_time": "2024-08-16T09:39:22.497626600Z",
     "start_time": "2024-08-16T09:39:22.442809900Z"
    }
   },
   "outputs": [],
   "source": [
    "for df in dataframes:\n",
    "    mask = df['status.start_time'].isna() | df['metadata.create_time'].isna() | (df['status.start_time']== None) | (df['metadata.create_time']== None) | (df['status.start_time']==0) | (df['metadata.create_time']==0) \n",
    "    df['scheduling_time'] = np.where(mask,np.nan, df['status.start_time']-df['metadata.create_time'])"
   ]
  },
  {
   "cell_type": "code",
   "execution_count": 15,
   "metadata": {
    "ExecuteTime": {
     "end_time": "2024-08-16T09:39:29.777278700Z",
     "start_time": "2024-08-16T09:39:28.104939500Z"
    }
   },
   "outputs": [],
   "source": [
    "for df in dataframes:\n",
    "    df = df.dropna(subset=['scheduling_time'])"
   ]
  },
  {
   "cell_type": "code",
   "execution_count": 17,
   "metadata": {
    "ExecuteTime": {
     "end_time": "2024-08-16T09:42:06.815785300Z",
     "start_time": "2024-08-16T09:42:06.772783800Z"
    }
   },
   "outputs": [
    {
     "name": "stdout",
     "output_type": "stream",
     "text": [
      "2024-02-22 12:56:59.648000\n"
     ]
    },
    {
     "name": "stderr",
     "output_type": "stream",
     "text": [
      "C:\\Windows\\Temp\\ipykernel_17564\\3878716624.py:1: FutureWarning: The behavior of 'to_datetime' with 'unit' when parsing strings is deprecated. In a future version, strings will be parsed as datetime strings, matching the behavior without a 'unit'. To retain the old behavior, explicitly cast ints or floats to numeric type before calling to_datetime.\n",
      "  pd.to_datetime('1708606592849', unit='ms')\n",
      "C:\\Windows\\Temp\\ipykernel_17564\\3878716624.py:2: FutureWarning: The behavior of 'to_datetime' with 'unit' when parsing strings is deprecated. In a future version, strings will be parsed as datetime strings, matching the behavior without a 'unit'. To retain the old behavior, explicitly cast ints or floats to numeric type before calling to_datetime.\n",
      "  print(pd.to_datetime('1708606592849', unit='ms'))\n"
     ]
    }
   ],
   "source": [
    "pd.to_datetime('1708606592849', unit='ms')\n",
    "print(pd.to_datetime('1708606592849', unit='ms'))"
   ]
  },
  {
   "cell_type": "markdown",
   "source": [
    "统计运行状态，共有6种运行状态\n",
    "Terminated：正常终止(是被用户还是被系统)\n",
    "Completed：完成\n",
    "Failed：失败，中途遇到错误或者异常\n",
    "Abnormal：这个也是失败，但是不知道是什么状态\n",
    "Running：正在运行\n"
   ],
   "metadata": {
    "collapsed": false
   }
  },
  {
   "cell_type": "code",
   "execution_count": 26,
   "metadata": {
    "ExecuteTime": {
     "end_time": "2024-08-16T09:58:15.360815Z",
     "start_time": "2024-08-16T09:58:14.022342300Z"
    }
   },
   "outputs": [
    {
     "data": {
      "text/plain": "<Figure size 1000x2000 with 6 Axes>",
      "image/png": "[encoded data removed]"
     },
     "metadata": {},
     "output_type": "display_data"
    }
   ],
   "source": [
    "    \n",
    "titles = [os.path.basename(title) for title in titles]\n",
    "fig, axs = plt.subplots(len(dataframes),figsize=(10,20))\n",
    "\n",
    "for i,dft in enumerate(dataframes):\n",
    "    status_counts = dft['status.phase'].value_counts()\n",
    "    bars = axs[i].bar(status_counts.index,status_counts.values)\n",
    "    axs[i].set_title(titles[i])\n",
    "    axs[i].set_xlabel(f'Status (sum: {sum(status_counts.values)})')\n",
    "    axs[i].set_ylabel('Count')\n",
    "\n",
    "    for bar in bars:\n",
    "        yval = bar.get_height()\n",
    "        axs[i].text(bar.get_x()+ bar.get_width()/2, yval +0.05, yval, ha= 'center', va='bottom')\n",
    "plt.tight_layout()\n",
    "plt.show()"
   ]
  },
  {
   "cell_type": "code",
   "execution_count": 21,
   "metadata": {
    "ExecuteTime": {
     "end_time": "2024-08-16T09:55:33.360424900Z",
     "start_time": "2024-08-16T09:55:33.319190400Z"
    }
   },
   "outputs": [
    {
     "data": {
      "text/plain": "1054"
     },
     "execution_count": 21,
     "metadata": {},
     "output_type": "execute_result"
    }
   ],
   "source": [
    "df1.shape[0]"
   ]
  },
  {
   "cell_type": "code",
   "execution_count": 30,
   "metadata": {
    "ExecuteTime": {
     "end_time": "2024-08-16T10:01:07.452405900Z",
     "start_time": "2024-08-16T10:01:07.375660800Z"
    }
   },
   "outputs": [
    {
     "name": "stdout",
     "output_type": "stream",
     "text": [
      "pool: data_1.json, number of jobs: 1054, numbers of columns: 127\n",
      "pool: data_2.json, number of jobs: 3268, numbers of columns: 105\n",
      "pool: data_3.json, number of jobs: 19872, numbers of columns: 379\n",
      "pool: data_4.json, number of jobs: 1121, numbers of columns: 145\n",
      "pool: data_5.json, number of jobs: 10125, numbers of columns: 231\n",
      "pool: data_6.json, number of jobs: 4190, numbers of columns: 255\n"
     ]
    }
   ],
   "source": [
    "for i,dft in enumerate(dataframes):\n",
    "    \n",
    "    print(\"pool: \"+titles[i]+\", number of jobs: \"+str(dft.shape[0])+\", numbers of columns: \"+str(len(dft.columns)))"
   ]
  },
  {
   "cell_type": "code",
   "execution_count": 44,
   "metadata": {
    "ExecuteTime": {
     "end_time": "2024-08-16T10:11:44.067162900Z",
     "start_time": "2024-08-16T10:11:39.183842200Z"
    }
   },
   "outputs": [
    {
     "name": "stdout",
     "output_type": "stream",
     "text": [
      "C:\\Users\\Administrator\\Desktop\\IdsLab\\任务\\调度系统\\snt9b集群现网数据\\data\\csv\\data_1.csv\n",
      "C:\\Users\\Administrator\\Desktop\\IdsLab\\任务\\调度系统\\snt9b集群现网数据\\data\\csv\\data_2.csv\n",
      "C:\\Users\\Administrator\\Desktop\\IdsLab\\任务\\调度系统\\snt9b集群现网数据\\data\\csv\\data_3.csv\n",
      "C:\\Users\\Administrator\\Desktop\\IdsLab\\任务\\调度系统\\snt9b集群现网数据\\data\\csv\\data_4.csv\n",
      "C:\\Users\\Administrator\\Desktop\\IdsLab\\任务\\调度系统\\snt9b集群现网数据\\data\\csv\\data_5.csv\n",
      "C:\\Users\\Administrator\\Desktop\\IdsLab\\任务\\调度系统\\snt9b集群现网数据\\data\\csv\\data_6.csv\n"
     ]
    }
   ],
   "source": [
    "path='C:\\\\Users\\Administrator\\Desktop\\IdsLab\\任务\\调度系统\\snt9b集群现网数据\\data\\csv'\n",
    "for i in range(len(dataframes)):\n",
    "    filePath=os.path.join(path,titles[i][0:-5]+'.csv')\n",
    "    dataframes[i].to_csv(filePath,index=True)\n",
    "    print(filePath)"
   ]
  },
  {
   "cell_type": "code",
   "execution_count": 48,
   "outputs": [],
   "source": [
    "df_concat=pd.concat(dataframes,ignore_index=True)"
   ],
   "metadata": {
    "collapsed": false,
    "ExecuteTime": {
     "end_time": "2024-08-16T10:14:23.874429500Z",
     "start_time": "2024-08-16T10:14:23.117626100Z"
    }
   }
  },
  {
   "cell_type": "markdown",
   "source": [
    "很奇怪这里为什么才8*24"
   ],
   "metadata": {
    "collapsed": false
   }
  },
  {
   "cell_type": "code",
   "execution_count": 49,
   "metadata": {
    "ExecuteTime": {
     "end_time": "2024-08-16T10:14:26.641067800Z",
     "start_time": "2024-08-16T10:14:26.487356100Z"
    }
   },
   "outputs": [
    {
     "data": {
      "text/plain": "       metadata.create_time  status.duration  status.retry_count   \ncount              39630.00         39630.00            39630.00  \\\nmean       1708283468078.98      50174700.53                0.05   \nstd           2530481897.81     252619719.77                9.15   \nmin        1704075622068.00             0.00                0.00   \n25%        1705996969860.00        894000.00                0.00   \n50%        1708392518596.50       2789000.00                0.00   \n75%        1710520431928.00       9221750.00                0.00   \nmax        1712785501768.00   10628453000.00             1820.00   \n\n       status.start_time  status.metrics_statistics.cpu_usage.average   \ncount           39630.00                                     39630.00  \\\nmean    1594413271416.12                                         4.49   \nstd      426137266450.70                                         7.14   \nmin                 0.00                                        -1.00   \n25%     1705630568500.00                                         0.78   \n50%     1707911416000.00                                         3.09   \n75%     1710422300750.00                                         5.59   \nmax     1712840387000.00                                        91.88   \n\n       status.metrics_statistics.cpu_usage.max   \ncount                                 39630.00  \\\nmean                                     18.36   \nstd                                      17.02   \nmin                                      -1.00   \n25%                                       4.79   \n50%                                      16.37   \n75%                                      25.73   \nmax                                     100.00   \n\n       status.metrics_statistics.cpu_usage.min   \ncount                                 39630.00  \\\nmean                                      0.00   \nstd                                       0.52   \nmin                                      -1.00   \n25%                                       0.00   \n50%                                       0.03   \n75%                                       0.10   \nmax                                      25.80   \n\n       status.metrics_statistics.mem_usage.average   \ncount                                     39630.00  \\\nmean                                         10.80   \nstd                                          14.70   \nmin                                          -1.00   \n25%                                           0.14   \n50%                                           6.05   \n75%                                          15.22   \nmax                                          97.85   \n\n       status.metrics_statistics.mem_usage.max   \ncount                                 39630.00  \\\nmean                                     19.69   \nstd                                      22.31   \nmin                                      -1.00   \n25%                                       0.79   \n50%                                      14.24   \n75%                                      28.56   \nmax                                     100.00   \n\n       status.metrics_statistics.mem_usage.min  ...   \ncount                                 39630.00  ...  \\\nmean                                     -0.08  ...   \nstd                                       0.66  ...   \nmin                                      -1.00  ...   \n25%                                       0.00  ...   \n50%                                       0.00  ...   \n75%                                       0.01  ...   \nmax                                      67.66  ...   \n\n       status.metrics_statistics.npu.util.max   \ncount                                39630.00  \\\nmean                                    27.88   \nstd                                     45.66   \nmin                                     -1.00   \n25%                                      0.00   \n50%                                      0.00   \n75%                                     49.00   \nmax                                    239.00   \n\n       status.metrics_statistics.npu.util.min  spec.resource.node_count   \ncount                                39630.00                  39630.00  \\\nmean                                    -0.09                     13.84   \nstd                                      0.65                     40.19   \nmin                                     -1.00                      1.00   \n25%                                      0.00                      1.00   \n50%                                      0.00                      2.00   \n75%                                      0.00                     16.00   \nmax                                     90.00                    606.00   \n\n       spec.resource.pool_info.core_num  spec.resource.pool_info.mem_size   \ncount                          39630.00                          39630.00  \\\nmean                             176.19                           1473.64   \nstd                               29.30                            244.01   \nmin                               22.00                            190.00   \n25%                              182.00                           1522.00   \n50%                              182.00                           1522.00   \n75%                              182.00                           1522.00   \nmax                              182.00                           1522.00   \n\n       spec.resource.pool_info.cache_size   \ncount                            39630.00  \\\nmean                               181.50   \nstd                                605.43   \nmin                                  0.00   \n25%                                  0.00   \n50%                                  0.00   \n75%                                  0.00   \nmax                               2201.00   \n\n       spec.resource.pool_info.accelerator_num  spec.schedule_policy.priority   \ncount                                 39630.00                       39620.00  \\\nmean                                      7.75                           2.38   \nstd                                       1.28                           0.70   \nmin                                       1.00                           1.00   \n25%                                       8.00                           2.00   \n50%                                       8.00                           3.00   \n75%                                       8.00                           3.00   \nmax                                       8.00                           3.00   \n\n       scheduling_time  spec.auto_stop.duration  \ncount         36988.00                    32.00  \nmean         965948.04                     2.00  \nstd        12496640.15                     0.00  \nmin            4337.00                     2.00  \n25%           75805.00                     2.00  \n50%          112708.50                     2.00  \n75%          277724.25                     2.00  \nmax      1289472431.00                     2.00  \n\n[8 rows x 24 columns]",
      "text/html": "<div>\n<style scoped>\n    .dataframe tbody tr th:only-of-type {\n        vertical-align: middle;\n    }\n\n    .dataframe tbody tr th {\n        vertical-align: top;\n    }\n\n    .dataframe thead th {\n        text-align: right;\n    }\n</style>\n<table border=\"1\" class=\"dataframe\">\n  <thead>\n    <tr style=\"text-align: right;\">\n      <th></th>\n      <th>metadata.create_time</th>\n      <th>status.duration</th>\n      <th>status.retry_count</th>\n      <th>status.start_time</th>\n      <th>status.metrics_statistics.cpu_usage.average</th>\n      <th>status.metrics_statistics.cpu_usage.max</th>\n      <th>status.metrics_statistics.cpu_usage.min</th>\n      <th>status.metrics_statistics.mem_usage.average</th>\n      <th>status.metrics_statistics.mem_usage.max</th>\n      <th>status.metrics_statistics.mem_usage.min</th>\n      <th>...</th>\n      <th>status.metrics_statistics.npu.util.max</th>\n      <th>status.metrics_statistics.npu.util.min</th>\n      <th>spec.resource.node_count</th>\n      <th>spec.resource.pool_info.core_num</th>\n      <th>spec.resource.pool_info.mem_size</th>\n      <th>spec.resource.pool_info.cache_size</th>\n      <th>spec.resource.pool_info.accelerator_num</th>\n      <th>spec.schedule_policy.priority</th>\n      <th>scheduling_time</th>\n      <th>spec.auto_stop.duration</th>\n    </tr>\n  </thead>\n  <tbody>\n    <tr>\n      <th>count</th>\n      <td>39630.00</td>\n      <td>39630.00</td>\n      <td>39630.00</td>\n      <td>39630.00</td>\n      <td>39630.00</td>\n      <td>39630.00</td>\n      <td>39630.00</td>\n      <td>39630.00</td>\n      <td>39630.00</td>\n      <td>39630.00</td>\n      <td>...</td>\n      <td>39630.00</td>\n      <td>39630.00</td>\n      <td>39630.00</td>\n      <td>39630.00</td>\n      <td>39630.00</td>\n      <td>39630.00</td>\n      <td>39630.00</td>\n      <td>39620.00</td>\n      <td>36988.00</td>\n      <td>32.00</td>\n    </tr>\n    <tr>\n      <th>mean</th>\n      <td>1708283468078.98</td>\n      <td>50174700.53</td>\n      <td>0.05</td>\n      <td>1594413271416.12</td>\n      <td>4.49</td>\n      <td>18.36</td>\n      <td>0.00</td>\n      <td>10.80</td>\n      <td>19.69</td>\n      <td>-0.08</td>\n      <td>...</td>\n      <td>27.88</td>\n      <td>-0.09</td>\n      <td>13.84</td>\n      <td>176.19</td>\n      <td>1473.64</td>\n      <td>181.50</td>\n      <td>7.75</td>\n      <td>2.38</td>\n      <td>965948.04</td>\n      <td>2.00</td>\n    </tr>\n    <tr>\n      <th>std</th>\n      <td>2530481897.81</td>\n      <td>252619719.77</td>\n      <td>9.15</td>\n      <td>426137266450.70</td>\n      <td>7.14</td>\n      <td>17.02</td>\n      <td>0.52</td>\n      <td>14.70</td>\n      <td>22.31</td>\n      <td>0.66</td>\n      <td>...</td>\n      <td>45.66</td>\n      <td>0.65</td>\n      <td>40.19</td>\n      <td>29.30</td>\n      <td>244.01</td>\n      <td>605.43</td>\n      <td>1.28</td>\n      <td>0.70</td>\n      <td>12496640.15</td>\n      <td>0.00</td>\n    </tr>\n    <tr>\n      <th>min</th>\n      <td>1704075622068.00</td>\n      <td>0.00</td>\n      <td>0.00</td>\n      <td>0.00</td>\n      <td>-1.00</td>\n      <td>-1.00</td>\n      <td>-1.00</td>\n      <td>-1.00</td>\n      <td>-1.00</td>\n      <td>-1.00</td>\n      <td>...</td>\n      <td>-1.00</td>\n      <td>-1.00</td>\n      <td>1.00</td>\n      <td>22.00</td>\n      <td>190.00</td>\n      <td>0.00</td>\n      <td>1.00</td>\n      <td>1.00</td>\n      <td>4337.00</td>\n      <td>2.00</td>\n    </tr>\n    <tr>\n      <th>25%</th>\n      <td>1705996969860.00</td>\n      <td>894000.00</td>\n      <td>0.00</td>\n      <td>1705630568500.00</td>\n      <td>0.78</td>\n      <td>4.79</td>\n      <td>0.00</td>\n      <td>0.14</td>\n      <td>0.79</td>\n      <td>0.00</td>\n      <td>...</td>\n      <td>0.00</td>\n      <td>0.00</td>\n      <td>1.00</td>\n      <td>182.00</td>\n      <td>1522.00</td>\n      <td>0.00</td>\n      <td>8.00</td>\n      <td>2.00</td>\n      <td>75805.00</td>\n      <td>2.00</td>\n    </tr>\n    <tr>\n      <th>50%</th>\n      <td>1708392518596.50</td>\n      <td>2789000.00</td>\n      <td>0.00</td>\n      <td>1707911416000.00</td>\n      <td>3.09</td>\n      <td>16.37</td>\n      <td>0.03</td>\n      <td>6.05</td>\n      <td>14.24</td>\n      <td>0.00</td>\n      <td>...</td>\n      <td>0.00</td>\n      <td>0.00</td>\n      <td>2.00</td>\n      <td>182.00</td>\n      <td>1522.00</td>\n      <td>0.00</td>\n      <td>8.00</td>\n      <td>3.00</td>\n      <td>112708.50</td>\n      <td>2.00</td>\n    </tr>\n    <tr>\n      <th>75%</th>\n      <td>1710520431928.00</td>\n      <td>9221750.00</td>\n      <td>0.00</td>\n      <td>1710422300750.00</td>\n      <td>5.59</td>\n      <td>25.73</td>\n      <td>0.10</td>\n      <td>15.22</td>\n      <td>28.56</td>\n      <td>0.01</td>\n      <td>...</td>\n      <td>49.00</td>\n      <td>0.00</td>\n      <td>16.00</td>\n      <td>182.00</td>\n      <td>1522.00</td>\n      <td>0.00</td>\n      <td>8.00</td>\n      <td>3.00</td>\n      <td>277724.25</td>\n      <td>2.00</td>\n    </tr>\n    <tr>\n      <th>max</th>\n      <td>1712785501768.00</td>\n      <td>10628453000.00</td>\n      <td>1820.00</td>\n      <td>1712840387000.00</td>\n      <td>91.88</td>\n      <td>100.00</td>\n      <td>25.80</td>\n      <td>97.85</td>\n      <td>100.00</td>\n      <td>67.66</td>\n      <td>...</td>\n      <td>239.00</td>\n      <td>90.00</td>\n      <td>606.00</td>\n      <td>182.00</td>\n      <td>1522.00</td>\n      <td>2201.00</td>\n      <td>8.00</td>\n      <td>3.00</td>\n      <td>1289472431.00</td>\n      <td>2.00</td>\n    </tr>\n  </tbody>\n</table>\n<p>8 rows × 24 columns</p>\n</div>"
     },
     "execution_count": 49,
     "metadata": {},
     "output_type": "execute_result"
    }
   ],
   "source": [
    "df_concat.describe()"
   ]
  },
  {
   "cell_type": "code",
   "execution_count": 54,
   "metadata": {
    "ExecuteTime": {
     "end_time": "2024-08-16T11:23:14.312052500Z",
     "start_time": "2024-08-16T11:23:11.522806Z"
    }
   },
   "outputs": [
    {
     "ename": "AttributeError",
     "evalue": "'DataFrame' object has no attribute '_convert'",
     "output_type": "error",
     "traceback": [
      "\u001B[1;31m---------------------------------------------------------------------------\u001B[0m",
      "\u001B[1;31mAttributeError\u001B[0m                            Traceback (most recent call last)",
      "Cell \u001B[1;32mIn[54], line 16\u001B[0m\n\u001B[0;32m      9\u001B[0m grouped_df \u001B[38;5;241m=\u001B[39m df_sorted\u001B[38;5;241m.\u001B[39mgroupby([\u001B[38;5;124m'\u001B[39m\u001B[38;5;124mgroup\u001B[39m\u001B[38;5;124m'\u001B[39m])\u001B[38;5;241m.\u001B[39msize()\n\u001B[0;32m     11\u001B[0m \u001B[38;5;66;03m# grouped_df['status.phase'] = grouped_df['status.phase'].astype('category')\u001B[39;00m\n\u001B[0;32m     12\u001B[0m \u001B[38;5;66;03m# grouped_df['status.phase'].cat.reorder_categories(category_order,inplace=True)\u001B[39;00m\n\u001B[0;32m     13\u001B[0m \u001B[38;5;66;03m# x= job_counts.index.astype(str)\u001B[39;00m\n\u001B[0;32m     14\u001B[0m \u001B[38;5;66;03m# y= grouped_df.sum(axis=1)\u001B[39;00m\n\u001B[1;32m---> 16\u001B[0m \u001B[43mgrouped_df\u001B[49m\u001B[38;5;241;43m.\u001B[39;49m\u001B[43mplot\u001B[49m\u001B[43m(\u001B[49m\u001B[43mkind\u001B[49m\u001B[38;5;241;43m=\u001B[39;49m\u001B[38;5;124;43m'\u001B[39;49m\u001B[38;5;124;43mpie\u001B[39;49m\u001B[38;5;124;43m'\u001B[39;49m\u001B[43m)\u001B[49m\n\u001B[0;32m     17\u001B[0m plt\u001B[38;5;241m.\u001B[39mtitle(\u001B[38;5;124m'\u001B[39m\u001B[38;5;124mjobs NPU card usage\u001B[39m\u001B[38;5;124m'\u001B[39m)\n\u001B[0;32m     18\u001B[0m \u001B[38;5;66;03m# plt.xlabel('Running Duration')\u001B[39;00m\n\u001B[0;32m     19\u001B[0m \u001B[38;5;66;03m# plt.ylabel('Job numbers')\u001B[39;00m\n\u001B[0;32m     20\u001B[0m \u001B[38;5;66;03m# plt.xticks(rotation=45,ha=\"right\",rotation_mode = \"anchor\")\u001B[39;00m\n\u001B[0;32m     21\u001B[0m \u001B[38;5;66;03m# for i,v in enumerate(y):\u001B[39;00m\n\u001B[0;32m     22\u001B[0m \u001B[38;5;66;03m#     plt.text(i,v,str(v),ha='center',va='bottom')\u001B[39;00m\n",
      "File \u001B[1;32mD:\\Anaconda\\envs\\pytorch\\lib\\site-packages\\pandas\\plotting\\_core.py:975\u001B[0m, in \u001B[0;36m__call__\u001B[1;34m(self, *args, **kwargs)\u001B[0m\n\u001B[0;32m    972\u001B[0m \u001B[38;5;28;01mif\u001B[39;00m int_y_arg \u001B[38;5;129;01mand\u001B[39;00m \u001B[38;5;129;01mnot\u001B[39;00m data\u001B[38;5;241m.\u001B[39mcolumns\u001B[38;5;241m.\u001B[39mholds_integer():\n\u001B[0;32m    973\u001B[0m     y \u001B[38;5;241m=\u001B[39m data_cols[y]\n\u001B[1;32m--> 975\u001B[0m label_kw \u001B[38;5;241m=\u001B[39m kwargs[\u001B[38;5;124m\"\u001B[39m\u001B[38;5;124mlabel\u001B[39m\u001B[38;5;124m\"\u001B[39m] \u001B[38;5;28;01mif\u001B[39;00m \u001B[38;5;124m\"\u001B[39m\u001B[38;5;124mlabel\u001B[39m\u001B[38;5;124m\"\u001B[39m \u001B[38;5;129;01min\u001B[39;00m kwargs \u001B[38;5;28;01melse\u001B[39;00m \u001B[38;5;28;01mFalse\u001B[39;00m\n\u001B[0;32m    976\u001B[0m \u001B[38;5;28;01mfor\u001B[39;00m kw \u001B[38;5;129;01min\u001B[39;00m [\u001B[38;5;124m\"\u001B[39m\u001B[38;5;124mxerr\u001B[39m\u001B[38;5;124m\"\u001B[39m, \u001B[38;5;124m\"\u001B[39m\u001B[38;5;124myerr\u001B[39m\u001B[38;5;124m\"\u001B[39m]:\n\u001B[0;32m    977\u001B[0m     \u001B[38;5;28;01mif\u001B[39;00m kw \u001B[38;5;129;01min\u001B[39;00m kwargs \u001B[38;5;129;01mand\u001B[39;00m (\n\u001B[0;32m    978\u001B[0m         \u001B[38;5;28misinstance\u001B[39m(kwargs[kw], \u001B[38;5;28mstr\u001B[39m) \u001B[38;5;129;01mor\u001B[39;00m is_integer(kwargs[kw])\n\u001B[0;32m    979\u001B[0m     ):\n",
      "File \u001B[1;32mD:\\Anaconda\\envs\\pytorch\\lib\\site-packages\\pandas\\plotting\\_matplotlib\\__init__.py:71\u001B[0m, in \u001B[0;36mplot\u001B[1;34m(data, kind, **kwargs)\u001B[0m\n\u001B[0;32m     69\u001B[0m         kwargs[\u001B[38;5;124m\"\u001B[39m\u001B[38;5;124max\u001B[39m\u001B[38;5;124m\"\u001B[39m] \u001B[38;5;241m=\u001B[39m \u001B[38;5;28mgetattr\u001B[39m(ax, \u001B[38;5;124m\"\u001B[39m\u001B[38;5;124mleft_ax\u001B[39m\u001B[38;5;124m\"\u001B[39m, ax)\n\u001B[0;32m     70\u001B[0m plot_obj \u001B[38;5;241m=\u001B[39m PLOT_CLASSES[kind](data, \u001B[38;5;241m*\u001B[39m\u001B[38;5;241m*\u001B[39mkwargs)\n\u001B[1;32m---> 71\u001B[0m \u001B[43mplot_obj\u001B[49m\u001B[38;5;241;43m.\u001B[39;49m\u001B[43mgenerate\u001B[49m\u001B[43m(\u001B[49m\u001B[43m)\u001B[49m\n\u001B[0;32m     72\u001B[0m plot_obj\u001B[38;5;241m.\u001B[39mdraw()\n\u001B[0;32m     73\u001B[0m \u001B[38;5;28;01mreturn\u001B[39;00m plot_obj\u001B[38;5;241m.\u001B[39mresult\n",
      "File \u001B[1;32mD:\\Anaconda\\envs\\pytorch\\lib\\site-packages\\pandas\\plotting\\_matplotlib\\core.py:450\u001B[0m, in \u001B[0;36mMPLPlot.generate\u001B[1;34m(self)\u001B[0m\n\u001B[0;32m    448\u001B[0m \u001B[38;5;28;01mdef\u001B[39;00m \u001B[38;5;21mgenerate\u001B[39m(\u001B[38;5;28mself\u001B[39m) \u001B[38;5;241m-\u001B[39m\u001B[38;5;241m>\u001B[39m \u001B[38;5;28;01mNone\u001B[39;00m:\n\u001B[0;32m    449\u001B[0m     \u001B[38;5;28mself\u001B[39m\u001B[38;5;241m.\u001B[39m_args_adjust()\n\u001B[1;32m--> 450\u001B[0m     \u001B[38;5;28;43mself\u001B[39;49m\u001B[38;5;241;43m.\u001B[39;49m\u001B[43m_compute_plot_data\u001B[49m\u001B[43m(\u001B[49m\u001B[43m)\u001B[49m\n\u001B[0;32m    451\u001B[0m     \u001B[38;5;28mself\u001B[39m\u001B[38;5;241m.\u001B[39m_setup_subplots()\n\u001B[0;32m    452\u001B[0m     \u001B[38;5;28mself\u001B[39m\u001B[38;5;241m.\u001B[39m_make_plot()\n",
      "File \u001B[1;32mD:\\Anaconda\\envs\\pytorch\\lib\\site-packages\\pandas\\plotting\\_matplotlib\\core.py:608\u001B[0m, in \u001B[0;36mMPLPlot._compute_plot_data\u001B[1;34m(self)\u001B[0m\n\u001B[0;32m    604\u001B[0m     data \u001B[38;5;241m=\u001B[39m reconstruct_data_with_by(\u001B[38;5;28mself\u001B[39m\u001B[38;5;241m.\u001B[39mdata, by\u001B[38;5;241m=\u001B[39m\u001B[38;5;28mself\u001B[39m\u001B[38;5;241m.\u001B[39mby, cols\u001B[38;5;241m=\u001B[39m\u001B[38;5;28mself\u001B[39m\u001B[38;5;241m.\u001B[39mcolumns)\n\u001B[0;32m    606\u001B[0m \u001B[38;5;66;03m# GH16953, _convert is needed as fallback, for ``Series``\u001B[39;00m\n\u001B[0;32m    607\u001B[0m \u001B[38;5;66;03m# with ``dtype == object``\u001B[39;00m\n\u001B[1;32m--> 608\u001B[0m data \u001B[38;5;241m=\u001B[39m \u001B[43mdata\u001B[49m\u001B[38;5;241;43m.\u001B[39;49m\u001B[43m_convert\u001B[49m(datetime\u001B[38;5;241m=\u001B[39m\u001B[38;5;28;01mTrue\u001B[39;00m, timedelta\u001B[38;5;241m=\u001B[39m\u001B[38;5;28;01mTrue\u001B[39;00m)\n\u001B[0;32m    609\u001B[0m include_type \u001B[38;5;241m=\u001B[39m [np\u001B[38;5;241m.\u001B[39mnumber, \u001B[38;5;124m\"\u001B[39m\u001B[38;5;124mdatetime\u001B[39m\u001B[38;5;124m\"\u001B[39m, \u001B[38;5;124m\"\u001B[39m\u001B[38;5;124mdatetimetz\u001B[39m\u001B[38;5;124m\"\u001B[39m, \u001B[38;5;124m\"\u001B[39m\u001B[38;5;124mtimedelta\u001B[39m\u001B[38;5;124m\"\u001B[39m]\n\u001B[0;32m    611\u001B[0m \u001B[38;5;66;03m# GH23719, allow plotting boolean\u001B[39;00m\n",
      "File \u001B[1;32mD:\\Anaconda\\envs\\pytorch\\lib\\site-packages\\pandas\\core\\generic.py:5989\u001B[0m, in \u001B[0;36m__getattr__\u001B[1;34m(self, name)\u001B[0m\n\u001B[0;32m   5982\u001B[0m \u001B[38;5;129m@final\u001B[39m\n\u001B[0;32m   5983\u001B[0m \u001B[38;5;28;01mdef\u001B[39;00m \u001B[38;5;21m_consolidate\u001B[39m(\u001B[38;5;28mself\u001B[39m):\n\u001B[0;32m   5984\u001B[0m \u001B[38;5;250m    \u001B[39m\u001B[38;5;124;03m\"\"\"\u001B[39;00m\n\u001B[0;32m   5985\u001B[0m \u001B[38;5;124;03m    Compute NDFrame with \"consolidated\" internals (data of each dtype\u001B[39;00m\n\u001B[0;32m   5986\u001B[0m \u001B[38;5;124;03m    grouped together in a single ndarray).\u001B[39;00m\n\u001B[0;32m   5987\u001B[0m \n\u001B[0;32m   5988\u001B[0m \u001B[38;5;124;03m    Returns\u001B[39;00m\n\u001B[1;32m-> 5989\u001B[0m \u001B[38;5;124;03m    -------\u001B[39;00m\n\u001B[0;32m   5990\u001B[0m \u001B[38;5;124;03m    consolidated : same type as caller\u001B[39;00m\n\u001B[0;32m   5991\u001B[0m \u001B[38;5;124;03m    \"\"\"\u001B[39;00m\n\u001B[0;32m   5992\u001B[0m     f \u001B[38;5;241m=\u001B[39m \u001B[38;5;28;01mlambda\u001B[39;00m: \u001B[38;5;28mself\u001B[39m\u001B[38;5;241m.\u001B[39m_mgr\u001B[38;5;241m.\u001B[39mconsolidate()\n\u001B[0;32m   5993\u001B[0m     cons_data \u001B[38;5;241m=\u001B[39m \u001B[38;5;28mself\u001B[39m\u001B[38;5;241m.\u001B[39m_protect_consolidate(f)\n",
      "\u001B[1;31mAttributeError\u001B[0m: 'DataFrame' object has no attribute '_convert'"
     ]
    }
   ],
   "source": [
    "intervals = [8,16,24,32,64,128,256,512,float('inf')]\n",
    "labels = ['[0,8] cards','[9,16] cards','[17,32] cards','[33,64] cards', '[65,128] cards', '[129,256] cards', '[257,512] cards', '>512 cards']\n",
    "dfb = df_concat.dropna(subset=['status.duration'])\n",
    "df_sorted = dfb.sort_values(\"status.duration\")\n",
    "df_sorted[\"status.duration\"] = df_sorted[\"status.duration\"] /1000\n",
    "df_sorted['spec.resource.node_count'] = df_sorted['spec.resource.node_count']*8\n",
    "df_sorted[\"group\"] = pd.cut(df_sorted[\"spec.resource.node_count\"],bins=intervals,labels=labels)\n",
    "# job_counts = df_sorted[\"status.duration\"].value_counts().sort_index()\n",
    "grouped_df = df_sorted.groupby(['group']).size()\n",
    "\n",
    "# grouped_df['status.phase'] = grouped_df['status.phase'].astype('category')\n",
    "# grouped_df['status.phase'].cat.reorder_categories(category_order,inplace=True)\n",
    "# x= job_counts.index.astype(str)\n",
    "# y= grouped_df.sum(axis=1)\n",
    "\n",
    "grouped_df.plot(kind='pie')\n",
    "plt.title('jobs NPU card usage')\n",
    "# plt.xlabel('Running Duration')\n",
    "# plt.ylabel('Job numbers')\n",
    "# plt.xticks(rotation=45,ha=\"right\",rotation_mode = \"anchor\")\n",
    "# for i,v in enumerate(y):\n",
    "#     plt.text(i,v,str(v),ha='center',va='bottom')\n",
    "\n",
    "plt.show()"
   ]
  },
  {
   "cell_type": "code",
   "execution_count": null,
   "metadata": {
    "ExecuteTime": {
     "start_time": "2024-08-16T09:19:45.473462700Z"
    }
   },
   "outputs": [],
   "source": [
    "import torch\n",
    "import numpy as np\n",
    "import pandas as pd\n",
    "import matplotlib.pyplot as plt\n",
    "\n",
    "job = pd.concat(dataframes,ignore_index=True)\n",
    "\n",
    "job['spec.resource.node_count'] = job['spec.resource.node_count']*8\n",
    "job_scale = pd.DataFrame({'jobs':['1','2','3','4-6','7-15','16-31','32-63','>=64'],'numbers':[0,0,0,0,0,0,0,0]}, columns=['jobs','numbers'])\n",
    "for num in job['spec.resource.node_count']:\n",
    "    if num <4:\n",
    "        job_scale['numbers'][num-1] += 1\n",
    "    elif num < 7:\n",
    "        job_scale['numbers'][3] += 1\n",
    "    elif num < 16:\n",
    "        job_scale['numbers'][4] += 1\n",
    "    elif num < 32:\n",
    "        job_scale['numbers'][5] += 1\n",
    "    elif num < 64:\n",
    "        job_scale['numbers'][6] += 1\n",
    "    else:\n",
    "        job_scale['numbers'][7] += 1\n",
    "\n",
    "job_scale_weight = pd.DataFrame({'jobs':['8','16','32','<','7-15','16-31','32-63','>=64'],'numbers':[0,0,0,0,0,0,0,0]}, columns=['jobs','numbers'])\n",
    "for num in job['spec.resource.node_count']:\n",
    "    if num <4:\n",
    "        job_scale_weight['numbers'][num-1] += num\n",
    "    elif num < 7:\n",
    "        job_scale_weight['numbers'][3] += num\n",
    "    elif num < 16:\n",
    "        job_scale_weight['numbers'][4] += num\n",
    "    elif num < 32:\n",
    "        job_scale_weight['numbers'][5] += num\n",
    "    elif num < 64:\n",
    "        job_scale_weight['numbers'][6] += num\n",
    "    else:\n",
    "        job_scale_weight['numbers'][7] += num\n",
    "\n",
    "sizes = job_scale['numbers']\n",
    "labels = job_scale['jobs']\n",
    "plt.figure(figsize=(8,8),dpi=120)\n",
    "plt.pie(sizes,         # 每个扇区大小\n",
    "        labels=labels, # 每个扇区标签\n",
    "        autopct='%.2f%%', # 计算百分比格式 %格式%   %d%% 整数百分比  %.2f%% 小数点后保留2位的浮点数百分比\n",
    "        )\n",
    "\n",
    "plt.title(\"NPU card used in jobs \")"
   ]
  },
  {
   "cell_type": "code",
   "execution_count": null,
   "metadata": {
    "ExecuteTime": {
     "start_time": "2024-08-16T09:19:45.476462500Z"
    }
   },
   "outputs": [],
   "source": [
    "df1 = df1.dropna(subset=['scheduling_time'])\n",
    "df2 = df1.dropna(subset=['scheduling_time'])\n",
    "df3 = df1.dropna(subset=['scheduling_time'])\n",
    "df4 = df1.dropna(subset=['scheduling_time'])\n",
    "df5 = df1.dropna(subset=['scheduling_time'])\n",
    "df6 = df1.dropna(subset=['scheduling_time'])\n"
   ]
  },
  {
   "cell_type": "code",
   "execution_count": null,
   "metadata": {
    "ExecuteTime": {
     "start_time": "2024-08-16T09:19:45.478464300Z"
    }
   },
   "outputs": [],
   "source": [
    "titles = [os.path.basename(title) for title in titles]\n",
    "fig, axs = plt.subplots(len(dataframes),figsize=(10,20))\n",
    "intervals = [0,120,300,600,1800,3600,7200,14400,float('inf')]\n",
    "labels = ['<2 min','<5 min','<10 min','<30 min','<60 min','<2 hours', '<4 hours','>4 hours']\n",
    "for i,dft in enumerate(dataframes):\n",
    "    dfb = dft.dropna(subset=['scheduling_time'])\n",
    "    df_sorted = dfb.sort_values(\"scheduling_time\")\n",
    "    df_sorted[\"scheduling_time\"] = df_sorted[\"scheduling_time\"] /1000\n",
    "    df_sorted[\"scheduling_time\"] = pd.cut(df_sorted[\"scheduling_time\"],bins=intervals,labels=labels)\n",
    "    job_counts = df_sorted[\"scheduling_time\"].value_counts().sort_index()\n",
    "    x= job_counts.index.astype(str)\n",
    "    y= job_counts.values\n",
    "    \n",
    "    \n",
    "    bars = axs[i].bar(x,y)\n",
    "    axs[i].set_title(titles[i])\n",
    "    axs[i].set_xlabel('Scheduling Time')\n",
    "    axs[i].set_ylabel('jobs numbers')\n",
    "    axs[i].set_xticklabels(axs[i].get_xticklabels(), rotation=45,ha=\"right\",rotation_mode = \"anchor\")\n",
    "    for bar in bars:\n",
    "        yval = bar.get_height()\n",
    "        axs[i].text(bar.get_x()+ bar.get_width()/2, yval +0.05, yval, ha= 'center', va='bottom')\n",
    "plt.tight_layout()\n",
    "plt.show()"
   ]
  },
  {
   "cell_type": "code",
   "execution_count": null,
   "metadata": {
    "ExecuteTime": {
     "start_time": "2024-08-16T09:19:45.481467200Z"
    }
   },
   "outputs": [],
   "source": [
    "df_concat= pd.concat(dataframes,ignore_index=True)\n",
    "df_concat.describe(include=\"all\")\n",
    "intervals = [0,120,300,600,1800,3600,7200,14400,float('inf')]\n",
    "labels = ['<2 min','<5 min','<10 min','<30 min','<60 min','<2 hours', '<4 hours','>4 hours']\n",
    "dfb = df_concat.dropna(subset=['scheduling_time'])\n",
    "df_sorted = dfb.sort_values(\"scheduling_time\")\n",
    "df_sorted[\"scheduling_time\"] = df_sorted[\"scheduling_time\"] /1000\n",
    "df_sorted[\"scheduling_time\"] = pd.cut(df_sorted[\"scheduling_time\"],bins=intervals,labels=labels)\n",
    "job_counts = df_sorted[\"scheduling_time\"].value_counts().sort_index()\n",
    "x= job_counts.index.astype(str)\n",
    "y= job_counts.values\n",
    "\n",
    "\n",
    "plt.bar(x,y)\n",
    "plt.title('Job Scheduling all pool')\n",
    "plt.xlabel('Scheduling Time')\n",
    "plt.ylabel('job numbers')\n",
    "plt.xticks(rotation=45,ha=\"right\",rotation_mode = \"anchor\")\n",
    "for i,v in enumerate(y):\n",
    "    plt.text(i,v,str(v),ha='center',va='bottom')\n",
    "\n",
    "plt.show()"
   ]
  },
  {
   "cell_type": "code",
   "execution_count": null,
   "metadata": {
    "ExecuteTime": {
     "start_time": "2024-08-16T09:19:45.483464Z"
    }
   },
   "outputs": [],
   "source": [
    "df['status.duration']"
   ]
  },
  {
   "cell_type": "code",
   "execution_count": null,
   "metadata": {
    "ExecuteTime": {
     "start_time": "2024-08-16T09:19:45.486465500Z"
    }
   },
   "outputs": [],
   "source": [
    "df_concat.groupby('scheduling_time')['spec.resource.pool_info.accelerator_num'].sum()"
   ]
  },
  {
   "cell_type": "code",
   "execution_count": null,
   "metadata": {
    "ExecuteTime": {
     "start_time": "2024-08-16T09:19:45.488460900Z"
    }
   },
   "outputs": [],
   "source": [
    "###cards###\n",
    "df_concat= pd.concat(dataframes,ignore_index=True)\n",
    "df_concat.describe(include=\"all\")\n",
    "intervals = [0,600,1800,3600,7200,14400,21600,28800,43200,86400,172800,345600,518400,float('inf')]\n",
    "labels = ['<10 min','<30 min','<60 min','<2 hours', '<4 hours', '<6 hours', '<8 hours', '<12 hours', '<1 day', '<2 days', '<4 days', '<6 days', '>6 days']\n",
    "dfb = df_concat.dropna(subset=['status.duration'])\n",
    "df_sorted = dfb.sort_values(\"status.duration\")\n",
    "df_sorted[\"status.duration\"] = df_sorted[\"status.duration\"] /1000\n",
    "df_sorted[\"status.duration\"] = pd.cut(df_sorted[\"status.duration\"],bins=intervals,labels=labels)\n",
    "job_counts = df_sorted[\"status.duration\"].value_counts().sort_index()\n",
    "x= job_counts.index.astype(str)\n",
    "y= job_counts.values\n",
    "\n",
    "\n",
    "plt.bar(x,y)\n",
    "plt.title('Job Scheduling all pool')\n",
    "plt.xlabel('Running Duration')\n",
    "plt.ylabel('Job numbers')\n",
    "plt.xticks(rotation=45,ha=\"right\",rotation_mode = \"anchor\")\n",
    "for i,v in enumerate(y):\n",
    "    plt.text(i,v,str(v),ha='center',va='bottom')\n",
    "\n",
    "plt.show()"
   ]
  },
  {
   "cell_type": "code",
   "execution_count": null,
   "metadata": {
    "ExecuteTime": {
     "start_time": "2024-08-16T09:19:45.491462900Z"
    }
   },
   "outputs": [],
   "source": [
    "df_concat['status.duration'].sort_values()"
   ]
  },
  {
   "cell_type": "code",
   "execution_count": null,
   "metadata": {
    "ExecuteTime": {
     "start_time": "2024-08-16T09:19:45.494461700Z"
    }
   },
   "outputs": [],
   "source": [
    "df_concat= pd.concat(dataframes,ignore_index=True)\n",
    "df_concat.describe(include=\"all\")\n",
    "intervals = [0,600,1800,3600,7200,14400,21600,28800,43200,86400,172800,345600,518400,float('inf')]\n",
    "labels = ['<10 min','<30 min','<60 min','<2 hours', '<4 hours', '<6 hours', '<8 hours', '<12 hours', '<1 day', '<2 days', '<4 days', '<6 days', '>6 days']\n",
    "dfb = df_concat.dropna(subset=['status.duration'])\n",
    "df_sorted = dfb.sort_values(\"status.duration\")\n",
    "df_sorted[\"status.duration\"] = df_sorted[\"status.duration\"] /1000\n",
    "df_sorted[\"status.duration\"] = pd.cut(df_sorted[\"status.duration\"],bins=intervals,labels=labels)\n",
    "df_sorted['spec.resource.node_count'] = df_sorted['spec.resource.node_count']*8\n",
    "npu_counts = df_sorted.groupby('status.duration')['spec.resource.node_count'].sum()\n",
    "x= npu_counts.index.astype(str)\n",
    "y= npu_counts.values\n",
    "\n",
    "\n",
    "plt.bar(x,y)\n",
    "plt.title('NPU usage all pool')\n",
    "plt.xlabel('Running Duration')\n",
    "plt.ylabel('NPU numbers')\n",
    "plt.xticks(rotation=45,ha=\"right\",rotation_mode = \"anchor\")\n",
    "for i,v in enumerate(y):\n",
    "    plt.text(i,v,str(v),ha='center',va='bottom')"
   ]
  },
  {
   "cell_type": "code",
   "execution_count": null,
   "metadata": {
    "ExecuteTime": {
     "start_time": "2024-08-16T09:19:45.495461100Z"
    }
   },
   "outputs": [],
   "source": [
    "df_concat= pd.concat(dataframes,ignore_index=True)\n",
    "df_concat.describe(include=\"all\")\n",
    "intervals = [0,600,1800,3600,7200,14400,21600,28800,43200,86400,172800,345600,518400,float('inf')]\n",
    "labels = ['<10 min','<30 min','<60 min','<2 hours', '<4 hours', '<6 hours', '<8 hours', '<12 hours', '<1 day', '<2 days', '<4 days', '<6 days', '>6 days']\n",
    "dfb = df_concat.dropna(subset=['status.duration'])\n",
    "df_sorted = dfb.sort_values(\"status.duration\")\n",
    "df_sorted[\"status.duration\"] = df_sorted[\"status.duration\"] /1000\n",
    "df_sorted[\"status.duration.group\"] = pd.cut(df_sorted[\"status.duration\"],bins=intervals,labels=labels)\n",
    "df_sorted['spec.resource.node_count'] = df_sorted['spec.resource.node_count']*8\n",
    "# npu_counts = df_sorted.groupby('status.duration')['spec.resource.node_count'].sum()\n",
    "grouped_df = df_sorted.groupby(['status.duration.group','status.phase']).size().unstack()\n",
    "x= npu_counts.index.astype(str)\n",
    "y= npu_counts.values\n",
    "\n",
    "\n",
    "grouped_df.plot(kind='bar',stacked=True)\n",
    "plt.title('NPU usage all pool')\n",
    "plt.xlabel('Running Duration')\n",
    "plt.ylabel('NPU numbers')\n",
    "plt.xticks(rotation=45,ha=\"right\",rotation_mode = \"anchor\")\n",
    "# for i,v in enumerate(y):\n",
    "#     plt.text(i,v,str(v),ha='center',va='bottom')"
   ]
  },
  {
   "cell_type": "code",
   "execution_count": null,
   "metadata": {
    "ExecuteTime": {
     "start_time": "2024-08-16T09:19:45.499462500Z"
    }
   },
   "outputs": [],
   "source": [
    "colors= ['green','orange','yellow','red']\n",
    "category_order = ['Completed','Terminated','Abnormal','Failed']\n",
    "df_concat= pd.concat(dataframes,ignore_index=True)\n",
    "df_concat.describe(include=\"all\")\n",
    "intervals = [0,600,1800,3600,7200,14400,21600,28800,43200,86400,172800,345600,518400,float('inf')]\n",
    "labels = ['<10 min','<30 min','<60 min','<2 hours', '<4 hours', '<6 hours', '<8 hours', '<12 hours', '<1 day', '<2 days', '<4 days', '<6 days', '>6 days']\n",
    "dfb = df_concat.dropna(subset=['status.duration'])\n",
    "df_sorted = dfb.sort_values(\"status.duration\")\n",
    "df_sorted[\"status.duration\"] = df_sorted[\"status.duration\"] /1000\n",
    "df_sorted[\"status.duration.group\"] = pd.cut(df_sorted[\"status.duration\"],bins=intervals,labels=labels)\n",
    "# job_counts = df_sorted[\"status.duration\"].value_counts().sort_index()\n",
    "\n",
    "grouped_df = df_sorted.groupby(['status.duration.group','status.phase']).size().unstack()\n",
    "# grouped_df['status.phase'] = grouped_df['status.phase'].astype('category')\n",
    "# grouped_df['status.phase'].cat.reorder_categories(category_order,inplace=True)\n",
    "# x= job_counts.index.astype(str)\n",
    "# y= job_counts.values\n",
    "\n",
    "grouped_df = grouped_df[['Completed','Terminated','Abnormal','Failed']]\n",
    "grouped_df.plot(kind='bar',stacked=True, color=colors)\n",
    "plt.title('Job Scheduling all pool')\n",
    "plt.xlabel('Running Duration')\n",
    "plt.ylabel('Job numbers')\n",
    "plt.xticks(rotation=45,ha=\"right\",rotation_mode = \"anchor\")\n",
    "# for i,v in enumerate(y):\n",
    "#     plt.text(i,v,str(v),ha='center',va='bottom')\n",
    "\n",
    "plt.show()"
   ]
  },
  {
   "cell_type": "code",
   "execution_count": null,
   "metadata": {
    "ExecuteTime": {
     "start_time": "2024-08-16T09:19:45.501461200Z"
    }
   },
   "outputs": [],
   "source": [
    "colors= ['green','orange','yellow','red']\n",
    "category_order = ['Completed','Terminated','Abnormal','Failed']\n",
    "df_concat= pd.concat(dataframes,ignore_index=True)\n",
    "df_concat.describe(include=\"all\")\n",
    "intervals = [0,120,300,600,1800,3600,7200,14400,float('inf')]\n",
    "labels = ['<2 min','<5 min','<10 min','<30 min','<60 min','<2 hours', '<4 hours','>4 hours']\n",
    "dfb = df_concat.dropna(subset=['scheduling_time'])\n",
    "df_sorted = dfb.sort_values(\"scheduling_time\")\n",
    "df_sorted[\"scheduling_time\"] = df_sorted[\"scheduling_time\"] /1000\n",
    "df_sorted[\"scheduling_time.group\"] = pd.cut(df_sorted[\"scheduling_time\"],bins=intervals,labels=labels)\n",
    "job_counts = df_sorted[\"scheduling_time.group\"].value_counts().sort_index()\n",
    "\n",
    "grouped_df = df_sorted.groupby(['scheduling_time.group','status.phase']).size().unstack()\n",
    "# grouped_df['status.phase'] = grouped_df['status.phase'].astype('category')\n",
    "# grouped_df['status.phase'].cat.reorder_categories(category_order,inplace=True)\n",
    "x= job_counts.index.astype(str)\n",
    "y= job_counts.values\n",
    "\n",
    "grouped_df = grouped_df[['Completed','Terminated','Abnormal','Failed']]\n",
    "grouped_df.plot(kind='bar',stacked=True, color=colors)\n",
    "plt.title('Job Scheduling all pool')\n",
    "plt.xlabel('Waiting time')\n",
    "plt.ylabel('Job numbers')\n",
    "plt.xticks(rotation=45,ha=\"right\",rotation_mode = \"anchor\")\n",
    "for i,v in enumerate(y):\n",
    "    plt.text(i,v,str(v),ha='center',va='bottom')\n",
    "\n",
    "plt.show()"
   ]
  },
  {
   "cell_type": "code",
   "execution_count": null,
   "metadata": {
    "ExecuteTime": {
     "start_time": "2024-08-16T09:19:45.504461300Z"
    }
   },
   "outputs": [],
   "source": [
    "colors= ['green','orange','yellow','red']\n",
    "category_order = ['Completed','Terminated','Abnormal','Failed']\n",
    "df_concat= pd.concat(dataframes,ignore_index=True)\n",
    "df_concat.describe(include=\"all\")\n",
    "intervals = [0,120,300,600,1800,3600,7200,14400,float('inf')]\n",
    "labels = ['<2 min','<5 min','<10 min','<30 min','<60 min','<2 hours', '<4 hours','>4 hours']\n",
    "dfb = df_concat.dropna(subset=['scheduling_time'])\n",
    "df_sorted = dfb.sort_values(\"scheduling_time\")\n",
    "df_sorted[\"scheduling_time\"] = df_sorted[\"scheduling_time\"] /1000\n",
    "df_sorted[\"scheduling_time\"] = pd.cut(df_sorted[\"scheduling_time\"],bins=intervals,labels=labels)\n",
    "df_sorted['spec.resource.node_count'] = df_sorted['spec.resource.node_count']*8\n",
    "npu_counts = df_sorted.groupby(['scheduling_time','status.phase'])['spec.resource.node_count'].sum().unstack()\n",
    "y=npu_counts.sum(axis=1)\n",
    "npu_counts = npu_counts[['Completed','Terminated','Abnormal','Failed']]\n",
    "npu_counts.plot(kind='bar',stacked=True, color=colors)\n",
    "plt.title('NPU usage all pool')\n",
    "plt.xlabel('Waiting time')\n",
    "plt.ylabel('NPU numbers')\n",
    "plt.xticks(rotation=45,ha=\"right\",rotation_mode = \"anchor\")\n",
    "for i,v in enumerate(y):\n",
    "    plt.text(i,v,str(v),ha='center',va='bottom')"
   ]
  },
  {
   "cell_type": "code",
   "execution_count": null,
   "metadata": {
    "ExecuteTime": {
     "start_time": "2024-08-16T09:19:45.507464100Z"
    }
   },
   "outputs": [],
   "source": [
    "colors= ['green','orange','yellow','red']\n",
    "category_order = ['Completed','Terminated','Abnormal','Failed']\n",
    "df_concat= pd.concat(dataframes,ignore_index=True)\n",
    "df_concat.describe(include=\"all\")\n",
    "intervals = [0,600,1800,3600,7200,14400,21600,28800,43200,86400,172800,345600,518400,float('inf')]\n",
    "labels = ['<10 min','<30 min','<60 min','<2 hours', '<4 hours', '<6 hours', '<8 hours', '<12 hours', '<1 day', '<2 days', '<4 days', '<6 days', '>6 days']\n",
    "dfb = df_concat.dropna(subset=['status.duration'])\n",
    "df_sorted = dfb.sort_values(\"status.duration\")\n",
    "df_sorted[\"status.duration\"] = df_sorted[\"status.duration\"] /1000\n",
    "df_sorted[\"status.duration.group\"] = pd.cut(df_sorted[\"status.duration\"],bins=intervals,labels=labels)\n",
    "# job_counts = df_sorted[\"status.duration\"].value_counts().sort_index()\n",
    "\n",
    "grouped_df = df_sorted.groupby(['status.duration.group','status.phase']).size().unstack()\n",
    "# grouped_df['status.phase'] = grouped_df['status.phase'].astype('category')\n",
    "# grouped_df['status.phase'].cat.reorder_categories(category_order,inplace=True)\n",
    "# x= job_counts.index.astype(str)\n",
    "y= grouped_df.sum(axis=1)\n",
    "\n",
    "grouped_df = grouped_df[['Completed','Terminated','Abnormal','Failed']]\n",
    "grouped_df.plot(kind='bar',stacked=True, color=colors)\n",
    "plt.title('Job Scheduling  cards and more')\n",
    "plt.xlabel('Running Duration')\n",
    "plt.ylabel('Job numbers')\n",
    "plt.xticks(rotation=45,ha=\"right\",rotation_mode = \"anchor\")\n",
    "for i,v in enumerate(y):\n",
    "    plt.text(i,v,str(v),ha='center',va='bottom')\n",
    "\n",
    "plt.show()"
   ]
  },
  {
   "cell_type": "code",
   "execution_count": null,
   "metadata": {
    "ExecuteTime": {
     "start_time": "2024-08-16T09:19:45.509461800Z"
    }
   },
   "outputs": [],
   "source": [
    "colors= ['green','orange','yellow','red']\n",
    "category_order = ['Completed','Terminated','Abnormal','Failed']\n",
    "df_concat= pd.concat(dataframes,ignore_index=True)\n",
    "df_concat.describe(include=\"all\")\n",
    "intervals = [0,600,1800,3600,7200,14400,21600,28800,43200,86400,172800,345600,518400,float('inf')]\n",
    "labels = ['<10 min','<30 min','<60 min','<2 hours', '<4 hours', '<6 hours', '<8 hours', '<12 hours', '<1 day', '<2 days', '<4 days', '<6 days', '>6 days']\n",
    "dfb = df_concat.dropna(subset=['status.duration'])\n",
    "df_sorted = dfb.sort_values(\"status.duration\")\n",
    "df_sorted[\"status.duration\"] = df_sorted[\"status.duration\"] /1000\n",
    "df_sorted[\"status.duration\"] = pd.cut(df_sorted[\"status.duration\"],bins=intervals,labels=labels)\n",
    "df_sorted['spec.resource.node_count'] = df_sorted['spec.resource.node_count']*8\n",
    "npu_counts = df_sorted.groupby(['status.duration','status.phase'])['spec.resource.node_count'].sum().unstack()\n",
    "y=npu_counts.sum(axis=1)\n",
    "npu_counts = npu_counts[['Completed','Terminated','Abnormal','Failed']]\n",
    "npu_counts.plot(kind='bar',stacked=True, color=colors)\n",
    "plt.title('NPU usage all pool')\n",
    "plt.xlabel('Running Duration')\n",
    "plt.ylabel('NPU numbers')\n",
    "plt.legend(bbox_to_anchor=(1.04,1),loc=\"upper right\")\n",
    "plt.xticks(rotation=45,ha=\"right\",rotation_mode = \"anchor\")\n",
    "for i,v in enumerate(y):\n",
    "    plt.text(i,v,str(v),ha='center',va='bottom')"
   ]
  },
  {
   "cell_type": "code",
   "execution_count": null,
   "metadata": {
    "ExecuteTime": {
     "start_time": "2024-08-16T09:19:45.511460900Z"
    }
   },
   "outputs": [],
   "source": [
    "colors= ['green','orange','yellow','red']\n",
    "category_order = ['Completed','Terminated','Abnormal','Failed']\n",
    "df_concat= pd.concat(dataframes,ignore_index=True)\n",
    "df_concat.describe(include=\"all\")\n",
    "intervals = [0,120,300,600,1800,3600,7200,14400,float('inf')]\n",
    "labels = ['<2 min','<5 min','<10 min','<30 min','<60 min','<2 hours', '<4 hours','>4 hours']\n",
    "dfb = df_concat.dropna(subset=['scheduling_time'])\n",
    "dfb = dfb[dfb['spec.resource.node_count']*8 >= 1000]\n",
    "df_sorted = dfb.sort_values(\"scheduling_time\")\n",
    "df_sorted[\"scheduling_time\"] = df_sorted[\"scheduling_time\"] /1000\n",
    "df_sorted[\"scheduling_time.group\"] = pd.cut(df_sorted[\"scheduling_time\"],bins=intervals,labels=labels)\n",
    "job_counts = df_sorted[\"scheduling_time.group\"].value_counts().sort_index()\n",
    "\n",
    "grouped_df = df_sorted.groupby(['scheduling_time.group','status.phase']).size().unstack()\n",
    "# grouped_df['status.phase'] = grouped_df['status.phase'].astype('category')\n",
    "# grouped_df['status.phase'].cat.reorder_categories(category_order,inplace=True)\n",
    "x= job_counts.index.astype(str)\n",
    "y= job_counts.values\n",
    "\n",
    "grouped_df = grouped_df[['Completed','Terminated','Abnormal','Failed']]\n",
    "grouped_df.plot(kind='bar',stacked=True, color=colors)\n",
    "plt.title('waiting time distribution of jobs')\n",
    "plt.xlabel('Waiting time')\n",
    "plt.ylabel('Job numbers')\n",
    "plt.xticks(rotation=45,ha=\"right\",rotation_mode = \"anchor\")\n",
    "for i,v in enumerate(y):\n",
    "    plt.text(i,v,str(v),ha='center',va='bottom')\n",
    "\n",
    "plt.show()"
   ]
  },
  {
   "cell_type": "code",
   "execution_count": null,
   "metadata": {
    "ExecuteTime": {
     "start_time": "2024-08-16T09:19:45.513463300Z"
    }
   },
   "outputs": [],
   "source": [
    "colors= ['green','orange','yellow','red']\n",
    "category_order = ['Completed','Terminated','Abnormal','Failed']\n",
    "df_concat= pd.concat(dataframes,ignore_index=True)\n",
    "df_concat.describe(include=\"all\")\n",
    "intervals = [0,120,300,600,1800,3600,7200,14400,float('inf')]\n",
    "labels = ['<2 min','<5 min','<10 min','<30 min','<60 min','<2 hours', '<4 hours','>4 hours']\n",
    "dfb = df_concat.dropna(subset=['scheduling_time'])\n",
    "dfb = dfb[dfb['spec.resource.node_count']*8 >= 1000]\n",
    "df_sorted = dfb.sort_values(\"scheduling_time\")\n",
    "df_sorted[\"scheduling_time\"] = df_sorted[\"scheduling_time\"] /1000\n",
    "df_sorted[\"scheduling_time\"] = pd.cut(df_sorted[\"scheduling_time\"],bins=intervals,labels=labels)\n",
    "df_sorted['spec.resource.node_count'] = df_sorted['spec.resource.node_count']*8\n",
    "npu_counts = df_sorted.groupby(['scheduling_time','status.phase'])['spec.resource.node_count'].sum().unstack()\n",
    "y=npu_counts.sum(axis=1)\n",
    "npu_counts = npu_counts[['Completed','Terminated','Abnormal','Failed']]\n",
    "npu_counts.plot(kind='bar',stacked=True, color=colors)\n",
    "plt.title('waiting time distribution of jobs')\n",
    "plt.xlabel('Waiting time')\n",
    "plt.ylabel('NPU numbers')\n",
    "plt.xticks(rotation=45,ha=\"right\",rotation_mode = \"anchor\")\n",
    "for i,v in enumerate(y):\n",
    "    plt.text(i,v,str(v),ha='center',va='bottom')"
   ]
  },
  {
   "cell_type": "code",
   "execution_count": null,
   "metadata": {
    "ExecuteTime": {
     "start_time": "2024-08-16T09:19:45.515461700Z"
    }
   },
   "outputs": [],
   "source": [
    "colors= ['green','orange','yellow','red']\n",
    "category_order = ['Completed','Terminated','Abnormal','Failed']\n",
    "df_concat= pd.concat(dataframes,ignore_index=True)\n",
    "df_concat.describe(include=\"all\")\n",
    "intervals = [0,600,1800,3600,7200,14400,21600,28800,43200,86400,172800,345600,518400,float('inf')]\n",
    "labels = ['<10 min','<30 min','<60 min','<2 hours', '<4 hours', '<6 hours', '<8 hours', '<12 hours', '<1 day', '<2 days', '<4 days', '<6 days', '>6 days']\n",
    "dfb = df_concat.dropna(subset=['status.duration'])\n",
    "dfb = dfb[dfb['spec.resource.node_count']*8 >= 1000]\n",
    "df_sorted = dfb.sort_values(\"status.duration\")\n",
    "df_sorted[\"status.duration\"] = df_sorted[\"status.duration\"] /1000\n",
    "df_sorted[\"status.duration.group\"] = pd.cut(df_sorted[\"status.duration\"],bins=intervals,labels=labels)\n",
    "# job_counts = df_sorted[\"status.duration\"].value_counts().sort_index()\n",
    "\n",
    "grouped_df = df_sorted.groupby(['status.duration.group','status.phase']).size().unstack()\n",
    "# grouped_df['status.phase'] = grouped_df['status.phase'].astype('category')\n",
    "# grouped_df['status.phase'].cat.reorder_categories(category_order,inplace=True)\n",
    "# x= job_counts.index.astype(str)\n",
    "y= grouped_df.sum(axis=1)\n",
    "\n",
    "grouped_df = grouped_df[['Completed','Terminated','Abnormal','Failed']]\n",
    "grouped_df.plot(kind='bar',stacked=True, color=colors)\n",
    "plt.title('running duration distribution of jobs')\n",
    "plt.xlabel('Running Duration')\n",
    "plt.ylabel('Job numbers')\n",
    "plt.xticks(rotation=45,ha=\"right\",rotation_mode = \"anchor\")\n",
    "for i,v in enumerate(y):\n",
    "    plt.text(i,v,str(v),ha='center',va='bottom')\n",
    "\n",
    "plt.show()"
   ]
  },
  {
   "cell_type": "code",
   "execution_count": null,
   "metadata": {
    "ExecuteTime": {
     "start_time": "2024-08-16T09:19:45.519121400Z"
    }
   },
   "outputs": [],
   "source": [
    "colors= ['green','orange','yellow','red']\n",
    "category_order = ['Completed','Terminated','Abnormal','Failed']\n",
    "df_concat= pd.concat(dataframes,ignore_index=True)\n",
    "df_concat.describe(include=\"all\")\n",
    "intervals = [0,600,1800,3600,7200,14400,21600,28800,43200,86400,172800,345600,518400,float('inf')]\n",
    "labels = ['<10 min','<30 min','<60 min','<2 hours', '<4 hours', '<6 hours', '<8 hours', '<12 hours', '<1 day', '<2 days', '<4 days', '<6 days', '>6 days']\n",
    "dfb = df_concat.dropna(subset=['status.duration'])\n",
    "dfb = dfb[dfb['spec.resource.node_count']*8 >= 1000]\n",
    "df_sorted = dfb.sort_values(\"status.duration\")\n",
    "df_sorted[\"status.duration\"] = df_sorted[\"status.duration\"] /1000\n",
    "df_sorted[\"status.duration\"] = pd.cut(df_sorted[\"status.duration\"],bins=intervals,labels=labels)\n",
    "df_sorted['spec.resource.node_count'] = df_sorted['spec.resource.node_count']*8\n",
    "npu_counts = df_sorted.groupby(['status.duration','status.phase'])['spec.resource.node_count'].sum().unstack()\n",
    "y=npu_counts.sum(axis=1)\n",
    "npu_counts = npu_counts[['Completed','Terminated','Abnormal','Failed']]\n",
    "npu_counts.plot(kind='bar',stacked=True, color=colors)\n",
    "plt.title('running duration distribution of jobs')\n",
    "plt.xlabel('Running Duration')\n",
    "plt.ylabel('NPU numbers')\n",
    "plt.legend(bbox_to_anchor=(1.04,1),loc=\"upper right\")\n",
    "plt.xticks(rotation=45,ha=\"right\",rotation_mode = \"anchor\")\n",
    "for i,v in enumerate(y):\n",
    "    plt.text(i,v,str(v),ha='center',va='bottom')"
   ]
  },
  {
   "cell_type": "code",
   "execution_count": null,
   "metadata": {
    "ExecuteTime": {
     "start_time": "2024-08-16T09:19:45.521119700Z"
    }
   },
   "outputs": [],
   "source": [
    "grouped_df = df_sorted.groupby(['status.duration.group']).size()\n",
    "grouped_df"
   ]
  },
  {
   "cell_type": "code",
   "execution_count": null,
   "metadata": {
    "ExecuteTime": {
     "start_time": "2024-08-16T09:19:45.524133600Z"
    }
   },
   "outputs": [],
   "source": [
    "intervals = [0,600,1800,3600,7200,14400,21600,28800,43200,86400,172800,345600,518400,float('inf')]\n",
    "labels = ['<10 min','<30 min','<60 min','<2 hours', '<4 hours', '<6 hours', '<8 hours', '<12 hours', '<1 day', '<2 days', '<4 days', '<6 days', '>6 days']\n",
    "dfb = df_concat.dropna(subset=['status.duration'])\n",
    "dfb = dfb[dfb['spec.resource.node_count']*8 >= 1000]\n",
    "df_sorted = dfb.sort_values(\"status.duration\")\n",
    "df_sorted[\"status.duration\"] = df_sorted[\"status.duration\"] /1000\n",
    "df_sorted[\"status.duration.group\"] = pd.cut(df_sorted[\"status.duration\"],bins=intervals,labels=labels)\n",
    "# job_counts = df_sorted[\"status.duration\"].value_counts().sort_index()\n",
    "grouped_df = df_sorted.groupby(['status.duration.group']).size()\n",
    "\n",
    "# grouped_df['status.phase'] = grouped_df['status.phase'].astype('category')\n",
    "# grouped_df['status.phase'].cat.reorder_categories(category_order,inplace=True)\n",
    "# x= job_counts.index.astype(str)\n",
    "# y= grouped_df.sum(axis=1)\n",
    "\n",
    "grouped_df.plot(kind='pie')\n",
    "plt.title('running duration distribution of jobs')\n",
    "# plt.xlabel('Running Duration')\n",
    "# plt.ylabel('Job numbers')\n",
    "# plt.xticks(rotation=45,ha=\"right\",rotation_mode = \"anchor\")\n",
    "# for i,v in enumerate(y):\n",
    "#     plt.text(i,v,str(v),ha='center',va='bottom')\n",
    "\n",
    "plt.show()"
   ]
  },
  {
   "cell_type": "code",
   "execution_count": null,
   "metadata": {
    "ExecuteTime": {
     "start_time": "2024-08-16T09:19:45.526119200Z"
    }
   },
   "outputs": [],
   "source": [
    "intervals = [0,600,1800,3600,7200,14400,21600,28800,43200,86400,172800,345600,518400,float('inf')]\n",
    "labels = ['<10 min','<30 min','<60 min','<2 hours', '<4 hours', '<6 hours', '<8 hours', '<12 hours', '<1 day', '<2 days', '<4 days', '<6 days', '>6 days']\n",
    "dfb = df_concat.dropna(subset=['status.duration'])\n",
    "dfb = dfb[dfb['spec.resource.node_count']*8 >= 1000]\n",
    "df_sorted = dfb.sort_values(\"status.duration\")\n",
    "df_sorted[\"status.duration\"] = df_sorted[\"status.duration\"] /1000\n",
    "df_sorted[\"status.duration\"] = pd.cut(df_sorted[\"status.duration\"],bins=intervals,labels=labels)\n",
    "df_sorted['spec.resource.node_count'] = df_sorted['spec.resource.node_count']*8\n",
    "npu_counts = df_sorted.groupby(['status.duration'])['spec.resource.node_count'].sum()\n",
    "# y=npu_counts.sum(axis=1)\n",
    "# npu_counts = npu_counts[['Completed','Terminated','Abnormal','Failed']]\n",
    "npu_counts.plot(kind='pie')\n",
    "plt.title('running duration distribution of jobs')\n",
    "# plt.xlabel('Running Duration')\n",
    "# plt.ylabel('NPU numbers')\n",
    "# plt.legend(bbox_to_anchor=(1.04,1),loc=\"upper right\")\n",
    "# plt.xticks(rotation=45,ha=\"right\",rotation_mode = \"anchor\")\n",
    "# for i,v in enumerate(y):\n",
    "#     plt.text(i,v,str(v),ha='center',va='bottom')()\n",
    "plt.show()"
   ]
  },
  {
   "cell_type": "code",
   "execution_count": null,
   "metadata": {
    "ExecuteTime": {
     "start_time": "2024-08-16T09:19:45.528121900Z"
    }
   },
   "outputs": [],
   "source": [
    "df_sorted"
   ]
  },
  {
   "cell_type": "code",
   "execution_count": null,
   "metadata": {
    "ExecuteTime": {
     "start_time": "2024-08-16T09:19:45.531120600Z"
    }
   },
   "outputs": [],
   "source": [
    "df_concat= pd.concat(dataframes,ignore_index=True)\n",
    "dfb = df_concat.dropna(subset=['scheduling_time'])\n",
    "df_sorted = dfb.sort_values(\"scheduling_time\")\n",
    "df_sorted[\"scheduling_time\"] = df_sorted[\"scheduling_time\"] /1000\n",
    "df_sorted['spec.resource.node_count'] = df_sorted['spec.resource.node_count']*8\n",
    "y=npu_counts.sum(axis=1)\n",
    "groups= df_sorted.groupby('spec.resource.pool_id')\n",
    "for name, group in groups:\n",
    "    plt.scatter(group[\"spec.resource.node_count\"],group[\"scheduling_time\"],label='-'.join(name.split('-')[:-1]))\n",
    "# plt.scatter(df_sorted[\"status.duration\"],df_sorted[\"spec.resource.node_count\"],c=df_sorted['spec.resource.pool_id'],cmap='cmo.deep')\n",
    "# npu_counts.plot(kind='bar',stacked=True, color=colors)\n",
    "plt.title('Scheduling time vs Number of NPU Used')\n",
    "plt.xlabel('NPU numbers')\n",
    "plt.ylabel('Scheduling time (in seconds)')\n",
    "plt.ticklabel_format(style='plain')\n",
    "plt.legend(bbox_to_anchor=(1.04,1),loc=\"upper right\")\n",
    "plt.xticks(rotation=45,ha=\"right\",rotation_mode = \"anchor\")"
   ]
  },
  {
   "cell_type": "code",
   "execution_count": null,
   "metadata": {
    "ExecuteTime": {
     "start_time": "2024-08-16T09:19:45.534119500Z"
    }
   },
   "outputs": [],
   "source": [
    "df_sorted['spec.resource.pool_id'].unique()"
   ]
  },
  {
   "cell_type": "code",
   "execution_count": null,
   "metadata": {
    "ExecuteTime": {
     "start_time": "2024-08-16T09:19:45.536121700Z"
    }
   },
   "outputs": [],
   "source": [
    "df_concat= pd.concat(dataframes,ignore_index=True)\n",
    "dfb = df_concat.dropna(subset=['status.duration'])\n",
    "df_sorted = dfb.sort_values(\"status.duration\")\n",
    "df_sorted[\"status.duration\"] = df_sorted[\"status.duration\"] /1000\n",
    "# df_sorted = df_sorted[df_sorted['status.duration']<= 200000]\n",
    "df_sorted = df_sorted[df_sorted['status.phase']== 'Completed']\n",
    "\n",
    "df_sorted['spec.resource.node_count'] = df_sorted['spec.resource.node_count']*8\n",
    "# df_sorted= df_sorted[df_sorted['spec.resource.node_count']>64]\n",
    "df_sorted= df_sorted[df_sorted['spec.resource.pool_id']=='os-d910b-c002-test-bcaad347572340b3821c54fd24df5798']\n",
    "groups= df_sorted.groupby('spec.resource.pool_id')\n",
    "for name, group in groups:\n",
    "    plt.scatter(group[\"spec.resource.node_count\"],group[\"status.duration\"],label='-'.join(name.split('-')[:-1]))\n",
    "# plt.scatter(df_sorted[\"status.duration\"],df_sorted[\"spec.resource.node_count\"],c=df_sorted['spec.resource.pool_id'],cmap='cmo.deep')\n",
    "# npu_counts.plot(kind='bar',stacked=True, color=colors)\n",
    "plt.title('Runnning duration vs Number of NPU Used')\n",
    "plt.xlabel('NPU numbers')\n",
    "plt.ylabel('Running Duration (in seconds)')\n",
    "plt.ticklabel_format(style='plain')\n",
    "plt.legend(bbox_to_anchor=(1.04,1),loc=\"upper right\")\n",
    "plt.xticks(rotation=45,ha=\"right\",rotation_mode = \"anchor\")"
   ]
  },
  {
   "cell_type": "code",
   "execution_count": null,
   "metadata": {
    "ExecuteTime": {
     "start_time": "2024-08-16T09:19:45.537121Z"
    }
   },
   "outputs": [],
   "source": [
    "df_sorted['status.duration']"
   ]
  },
  {
   "cell_type": "code",
   "execution_count": null,
   "metadata": {
    "ExecuteTime": {
     "start_time": "2024-08-16T09:19:45.539119Z"
    }
   },
   "outputs": [],
   "source": [
    "df_concat.to_excel(\"Table20240101_20240411.xlsx\")"
   ]
  },
  {
   "cell_type": "code",
   "execution_count": null,
   "metadata": {
    "ExecuteTime": {
     "start_time": "2024-08-16T09:19:45.540123600Z"
    }
   },
   "outputs": [],
   "source": [
    "from bokeh.plotting import figure, show, output_notebook\n",
    "from bokeh.io import output_notebook\n",
    "from bokeh.models import ColumnDataSource\n",
    "from bokeh.transform import factor_cmap\n",
    "# import pandas_bokeh\n",
    "# pandas_bokeh.output_notebook()\n",
    "output_notebook()\n",
    "from bokeh.models.widgets import DataTable,TableColumn\n",
    "from bokeh.palettes import Spectral10\n",
    "# data_table = DataTable(\n",
    "#     columns=[TableColumn(field=Ci,title=Ci) for Ci in df_sorted.columns],\n",
    "#     source= ColumnDataSource(df_sorted),\n",
    "#     width=300,\n",
    "#     height=300\n",
    "# )\n",
    "\n",
    "# p_scatter = df_sorted.plot_bokeh(\n",
    "    \n",
    "#     title = 'Runnning duration vs Number of NPU Used',\n",
    "#     x='spec.resource.node_count',\n",
    "#     y='status.duration',\n",
    "#     category='spec.resource.pool_id',\n",
    "       \n",
    "# )\n",
    "# pandas_bokeh.plot_grid([[data_table,p_scatter]],width=500,height=500)\n",
    "source = ColumnDataSource(df_sorted)\n",
    "pool = df_sorted['spec.resource.pool_id'].unique()\n",
    "color_map = factor_cmap('spec.resource.pool_id', palette = Spectral10, factors= pool)\n",
    "p = figure(title = 'Runnning duration vs Number of NPU Used',x_axis_label='Number of NPUs Used', y_axis_label='Job Running Duration')\n",
    "p.scatter('spec.resource.node_count',\"status.duration\",source=source,fill_alpha=0.6,color=color_map, legend_field='spec.resource.pool_id', size=10)\n",
    "p.legend.location= \"top_right\"\n",
    "show(p)"
   ]
  },
  {
   "cell_type": "code",
   "execution_count": null,
   "metadata": {
    "ExecuteTime": {
     "start_time": "2024-08-16T09:19:45.542120200Z"
    }
   },
   "outputs": [],
   "source": [
    "df_concat= pd.concat(dataframes,ignore_index=True)\n",
    "dfb = df_concat.dropna(subset=['scheduling_time'])\n",
    "df_sorted = dfb.sort_values(\"scheduling_time\")\n",
    "df_sorted[\"scheduling_time\"] = df_sorted[\"scheduling_time\"] /1000\n",
    "df_sorted['spec.resource.node_count'] = df_sorted['spec.resource.node_count']*8\n",
    "y=npu_counts.sum(axis=1)\n",
    "groups= df_sorted.groupby('spec.resource.pool_id')\n",
    "for name, group in groups:\n",
    "    plt.scatter(group[\"spec.resource.node_count\"],group[\"scheduling_time\"],label='-'.join(name.split('-')[:-1]))\n",
    "# plt.scatter(df_sorted[\"status.duration\"],df_sorted[\"spec.resource.node_count\"],c=df_sorted['spec.resource.pool_id'],cmap='cmo.deep')\n",
    "# npu_counts.plot(kind='bar',stacked=True, color=colors)\n",
    "plt.title('Scheduling time vs Number of NPU Used')\n",
    "plt.xlabel('NPU numbers')\n",
    "plt.ylabel('Scheduling time (in seconds)')\n",
    "plt.ticklabel_format(style='plain')\n",
    "plt.legend(bbox_to_anchor=(1.04,1),loc=\"upper right\")\n",
    "plt.xticks(rotation=45,ha=\"right\",rotation_mode = \"anchor\")"
   ]
  },
  {
   "cell_type": "code",
   "execution_count": null,
   "metadata": {
    "ExecuteTime": {
     "start_time": "2024-08-16T09:19:45.544120200Z"
    }
   },
   "outputs": [],
   "source": [
    "df_sorted['status.duration']"
   ]
  },
  {
   "cell_type": "code",
   "execution_count": null,
   "metadata": {
    "ExecuteTime": {
     "start_time": "2024-08-16T09:19:45.546119800Z"
    }
   },
   "outputs": [],
   "source": [
    "groups.status.duration"
   ]
  },
  {
   "cell_type": "code",
   "execution_count": null,
   "metadata": {
    "ExecuteTime": {
     "start_time": "2024-08-16T09:19:45.548121900Z"
    }
   },
   "outputs": [],
   "source": [
    "df['scheduling_time'] = df['status.start_time']-df['metadata.create_time']\n",
    "df2['scheduling_time'] = df2['status.start_time']-df2['metadata.create_time']\n",
    "df3['scheduling_time'] = df3['status.start_time']-df3['metadata.create_time']\n",
    "df4['scheduling_time'] = df4['status.start_time']-df4['metadata.create_time']\n",
    "df5['scheduling_time'] = df5['status.start_time']-df5['metadata.create_time']\n",
    "df6['scheduling_time'] = df6['status.start_time']-df6['metadata.create_time']"
   ]
  },
  {
   "cell_type": "code",
   "execution_count": null,
   "metadata": {
    "ExecuteTime": {
     "start_time": "2024-08-16T09:19:45.550123900Z"
    }
   },
   "outputs": [],
   "source": [
    "df['scheduling_time']"
   ]
  },
  {
   "cell_type": "code",
   "execution_count": null,
   "metadata": {
    "ExecuteTime": {
     "start_time": "2024-08-16T09:19:45.552123Z"
    }
   },
   "outputs": [],
   "source": [
    "dataframes = [df,df2,df3,df4,df5,df6]\n",
    "df_concat= pd.concat(dataframes,ignore_index=True)\n",
    "df_concat.describe(include=\"all\")"
   ]
  },
  {
   "cell_type": "code",
   "execution_count": null,
   "metadata": {
    "ExecuteTime": {
     "start_time": "2024-08-16T09:19:45.554119600Z"
    }
   },
   "outputs": [],
   "source": [
    "df_concat"
   ]
  },
  {
   "cell_type": "code",
   "execution_count": null,
   "metadata": {
    "ExecuteTime": {
     "start_time": "2024-08-16T09:19:45.555119300Z"
    }
   },
   "outputs": [],
   "source": [
    "df_expanded = df_concat.explode('status.tasks')\n",
    "node_c = df_expanded['status.tasks'].value_counts()\n",
    "plt.figure(figsize=(100,20))\n",
    "node_c.plot(kind='bar')\n",
    "\n",
    "plt.xlabel('Node')\n",
    "plt.ylabel('Number of Jobs')\n",
    "plt.title('Number of Jobs for Earch Node')\n",
    "\n",
    "plt.xticks(rotation=45)\n",
    "plt.show()"
   ]
  },
  {
   "cell_type": "code",
   "execution_count": null,
   "metadata": {
    "ExecuteTime": {
     "start_time": "2024-08-16T09:19:45.557119200Z"
    }
   },
   "outputs": [],
   "source": [
    "df_concat.to_csv('dfpool4clusters.csv')"
   ]
  },
  {
   "cell_type": "code",
   "execution_count": null,
   "metadata": {
    "ExecuteTime": {
     "start_time": "2024-08-16T09:19:45.559119500Z"
    }
   },
   "outputs": [],
   "source": [
    "node_counts"
   ]
  },
  {
   "cell_type": "code",
   "execution_count": null,
   "metadata": {
    "ExecuteTime": {
     "start_time": "2024-08-16T09:19:45.560119600Z"
    }
   },
   "outputs": [],
   "source": [
    "df_extract = df_concat[['metadata.id','metadata.name','metadata.create_time','metadata.labels.cluster.id','metadata.labels.cluster.id','metadata.user_name','status.phase','status.duration','status.node_count_metrics',\n",
    "'status.tasks','algorithm.parameters','spec.resource.quota_id','spec.resource.node_count','spec.resource.pool_info.core_num','spec.resource.pool_info.mem_size','spec.schedule_policy.priority']]"
   ]
  },
  {
   "cell_type": "code",
   "execution_count": null,
   "metadata": {
    "ExecuteTime": {
     "start_time": "2024-08-16T09:19:45.562120Z"
    }
   },
   "outputs": [],
   "source": [
    "flattened_data=pd.json_normalize(df_extract['algorithm.parameters'].explode().reset_index(drop=True))\n",
    "flattened_data.columns = ['algorithm.parameters.' + str(col) for col in flattened_data.columns]\n",
    "flattened_data = flattened_data[['algorithm.parameters.name','algorithm.parameters.value']]\n",
    "df_extract = df_extract.join(flattened_data)"
   ]
  },
  {
   "cell_type": "code",
   "execution_count": null,
   "metadata": {
    "ExecuteTime": {
     "start_time": "2024-08-16T09:19:45.564121900Z"
    }
   },
   "outputs": [],
   "source": [
    "df_extract['metadata.name.substring'] = df_extract['metadata.name'].str.split('-').str[0:2].str.join('-')"
   ]
  },
  {
   "cell_type": "code",
   "execution_count": null,
   "metadata": {
    "ExecuteTime": {
     "start_time": "2024-08-16T09:19:45.566119700Z"
    }
   },
   "outputs": [],
   "source": [
    "df_extract[df_extract['metadata.name'].str.contains('pangu',case='False')]"
   ]
  },
  {
   "cell_type": "code",
   "execution_count": null,
   "metadata": {
    "ExecuteTime": {
     "start_time": "2024-08-16T09:19:45.569118700Z"
    }
   },
   "outputs": [],
   "source": [
    "titles = glob.glob('workloads_of_large_pools_in_cn_southwest_2/workloads_of_large_pools_in_cn_southwest_2/*')\n",
    "dfp = []\n",
    "for title in titles:\n",
    "    with open(title,'r') as f:\n",
    "        json_data = json.load(f)\n",
    "        dft = [pd.DataFrame(json_data)]\n",
    "        dft = pd.DataFrame(json_data)\n",
    "        dft.reset_index(inplace=True)\n",
    "        dft = dft.drop('index',axis=1)\n",
    "        dfp.append(dft)"
   ]
  },
  {
   "cell_type": "code",
   "execution_count": null,
   "metadata": {
    "ExecuteTime": {
     "start_time": "2024-08-16T09:19:45.571119100Z"
    }
   },
   "outputs": [],
   "source": [
    "df7,df8,df9,df10,df11,df12 = dfp\n",
    "dataframes2 = [df7,df8,df9,df10,df11,df12]\n",
    "df_concat2= pd.concat(dataframes2,ignore_index=True)"
   ]
  },
  {
   "cell_type": "code",
   "execution_count": null,
   "metadata": {
    "ExecuteTime": {
     "start_time": "2024-08-16T09:19:45.574132900Z"
    }
   },
   "outputs": [],
   "source": [
    "merged = df_concat.merge(df_concat2, left_on='metadata.id', right_on='uid')"
   ]
  },
  {
   "cell_type": "code",
   "execution_count": null,
   "metadata": {
    "ExecuteTime": {
     "start_time": "2024-08-16T09:19:45.576121300Z"
    }
   },
   "outputs": [],
   "source": [
    "df_concat2['uid']"
   ]
  },
  {
   "cell_type": "code",
   "execution_count": null,
   "metadata": {
    "ExecuteTime": {
     "start_time": "2024-08-16T09:19:45.578119300Z"
    }
   },
   "outputs": [],
   "source": [
    "df_concat['metadata.id'] "
   ]
  },
  {
   "cell_type": "code",
   "execution_count": null,
   "metadata": {
    "ExecuteTime": {
     "start_time": "2024-08-16T09:19:45.580119300Z"
    }
   },
   "outputs": [],
   "source": [
    "merged"
   ]
  },
  {
   "cell_type": "code",
   "execution_count": null,
   "metadata": {
    "ExecuteTime": {
     "start_time": "2024-08-16T09:19:45.582120300Z"
    }
   },
   "outputs": [],
   "source": [
    "flattened_data.describe(include='all')"
   ]
  },
  {
   "cell_type": "code",
   "execution_count": null,
   "metadata": {
    "ExecuteTime": {
     "start_time": "2024-08-16T09:19:45.583121Z"
    }
   },
   "outputs": [],
   "source": [
    "df_extract['metadata.name.substring'].str.contains('pangu',case='False').sum()"
   ]
  },
  {
   "cell_type": "code",
   "execution_count": null,
   "metadata": {
    "ExecuteTime": {
     "start_time": "2024-08-16T09:19:45.584120Z"
    }
   },
   "outputs": [],
   "source": [
    "df2.columns.to_series().to_csv('columns4clusters.csv',index=False)"
   ]
  },
  {
   "cell_type": "code",
   "execution_count": null,
   "metadata": {
    "ExecuteTime": {
     "start_time": "2024-08-16T09:19:45.586121400Z"
    }
   },
   "outputs": [],
   "source": [
    "df.to_csv('columnsC002Test.csv',index=False)"
   ]
  }
 ],
 "metadata": {
  "kernelspec": {
   "display_name": "Python 3",
   "language": "python",
   "name": "python3"
  },
  "language_info": {
   "codemirror_mode": {
    "name": "ipython",
    "version": 3
   },
   "file_extension": ".py",
   "mimetype": "text/x-python",
   "name": "python",
   "nbconvert_exporter": "python",
   "pygments_lexer": "ipython3",
   "version": "3.10.2"
  },
  "orig_nbformat": 4
 },
 "nbformat": 4,
 "nbformat_minor": 2
}
